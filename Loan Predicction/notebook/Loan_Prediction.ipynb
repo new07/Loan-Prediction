{
 "cells": [
  {
   "cell_type": "markdown",
   "metadata": {},
   "source": [
    "# Loan Prediction"
   ]
  },
  {
   "cell_type": "markdown",
   "metadata": {},
   "source": [
    "### Problem Statement"
   ]
  },
  {
   "cell_type": "markdown",
   "metadata": {},
   "source": [
    "<b>Build a model to predict if a customer would be approved/rejected for a loan application based on\n",
    "the details provided by him,These details are Gender, Marital Status, Education, Number of\n",
    "Dependents, Income, Loan Amount, Credit History and others<b>"
   ]
  },
  {
   "cell_type": "markdown",
   "metadata": {},
   "source": [
    "### Importing required packages"
   ]
  },
  {
   "cell_type": "code",
   "execution_count": 637,
   "metadata": {},
   "outputs": [],
   "source": [
    "#import libraries\n",
    "import numpy as np\n",
    "import matplotlib.pyplot as plt\n",
    "import seaborn as sns\n",
    "import pandas as pd\n",
    "\n",
    "#import libraries for data preprocessing\n",
    "from sklearn.preprocessing import LabelEncoder\n",
    "from sklearn.preprocessing import StandardScaler\n",
    "from sklearn.model_selection import train_test_split\n",
    "\n",
    "\n",
    "#import libraries for Logistic Regression\n",
    "from sklearn.linear_model import LogisticRegression\n",
    "\n",
    "\n",
    "#import libraries for Random Forest Classifier\n",
    "from sklearn.ensemble import RandomForestClassifier\n",
    "\n",
    "#import libraries for Support Vector Machine\n",
    "from sklearn.svm import SVC\n",
    "\n",
    "\n",
    "#import libraries for Neural Network\n",
    "from keras.utils import to_categorical\n",
    "from keras.models import Sequential\n",
    "from keras.layers import Dense\n",
    "\n",
    "\n",
    "#import libraries for model evaluation\n",
    "from sklearn.metrics import accuracy_score\n",
    "from sklearn.metrics import confusion_matrix\n",
    "from sklearn.metrics import classification_report\n",
    "from sklearn.metrics import f1_score\n",
    "%matplotlib inline\n",
    "\n",
    "\n",
    "import warnings\n",
    "warnings.filterwarnings('ignore')"
   ]
  },
  {
   "cell_type": "markdown",
   "metadata": {},
   "source": [
    "### Loading the Data Set"
   ]
  },
  {
   "cell_type": "code",
   "execution_count": 399,
   "metadata": {},
   "outputs": [],
   "source": [
    "df = pd.read_csv(\"/home/sash/Documents/Assignment/data_set.csv\")"
   ]
  },
  {
   "cell_type": "code",
   "execution_count": 400,
   "metadata": {},
   "outputs": [
    {
     "name": "stdout",
     "output_type": "stream",
     "text": [
      "Shape of dataset :  (614, 13)\n"
     ]
    },
    {
     "data": {
      "text/html": [
       "<div>\n",
       "<style scoped>\n",
       "    .dataframe tbody tr th:only-of-type {\n",
       "        vertical-align: middle;\n",
       "    }\n",
       "\n",
       "    .dataframe tbody tr th {\n",
       "        vertical-align: top;\n",
       "    }\n",
       "\n",
       "    .dataframe thead th {\n",
       "        text-align: right;\n",
       "    }\n",
       "</style>\n",
       "<table border=\"1\" class=\"dataframe\">\n",
       "  <thead>\n",
       "    <tr style=\"text-align: right;\">\n",
       "      <th></th>\n",
       "      <th>Loan_ID</th>\n",
       "      <th>Gender</th>\n",
       "      <th>Married</th>\n",
       "      <th>Dependents</th>\n",
       "      <th>Education</th>\n",
       "      <th>Self_Employed</th>\n",
       "      <th>ApplicantIncome</th>\n",
       "      <th>CoapplicantIncome</th>\n",
       "      <th>LoanAmount</th>\n",
       "      <th>Loan_Amount_Term</th>\n",
       "      <th>Credit_History</th>\n",
       "      <th>Property_Area</th>\n",
       "      <th>Loan_Status</th>\n",
       "    </tr>\n",
       "  </thead>\n",
       "  <tbody>\n",
       "    <tr>\n",
       "      <th>0</th>\n",
       "      <td>LP001002</td>\n",
       "      <td>Male</td>\n",
       "      <td>No</td>\n",
       "      <td>0</td>\n",
       "      <td>Graduate</td>\n",
       "      <td>No</td>\n",
       "      <td>5849</td>\n",
       "      <td>0.0</td>\n",
       "      <td>NaN</td>\n",
       "      <td>360.0</td>\n",
       "      <td>1.0</td>\n",
       "      <td>Urban</td>\n",
       "      <td>Y</td>\n",
       "    </tr>\n",
       "    <tr>\n",
       "      <th>1</th>\n",
       "      <td>LP001003</td>\n",
       "      <td>Male</td>\n",
       "      <td>Yes</td>\n",
       "      <td>1</td>\n",
       "      <td>Graduate</td>\n",
       "      <td>No</td>\n",
       "      <td>4583</td>\n",
       "      <td>1508.0</td>\n",
       "      <td>128.0</td>\n",
       "      <td>360.0</td>\n",
       "      <td>1.0</td>\n",
       "      <td>Rural</td>\n",
       "      <td>N</td>\n",
       "    </tr>\n",
       "    <tr>\n",
       "      <th>2</th>\n",
       "      <td>LP001005</td>\n",
       "      <td>Male</td>\n",
       "      <td>Yes</td>\n",
       "      <td>0</td>\n",
       "      <td>Graduate</td>\n",
       "      <td>Yes</td>\n",
       "      <td>3000</td>\n",
       "      <td>0.0</td>\n",
       "      <td>66.0</td>\n",
       "      <td>360.0</td>\n",
       "      <td>1.0</td>\n",
       "      <td>Urban</td>\n",
       "      <td>Y</td>\n",
       "    </tr>\n",
       "    <tr>\n",
       "      <th>3</th>\n",
       "      <td>LP001006</td>\n",
       "      <td>Male</td>\n",
       "      <td>Yes</td>\n",
       "      <td>0</td>\n",
       "      <td>Not Graduate</td>\n",
       "      <td>No</td>\n",
       "      <td>2583</td>\n",
       "      <td>2358.0</td>\n",
       "      <td>120.0</td>\n",
       "      <td>360.0</td>\n",
       "      <td>1.0</td>\n",
       "      <td>Urban</td>\n",
       "      <td>Y</td>\n",
       "    </tr>\n",
       "    <tr>\n",
       "      <th>4</th>\n",
       "      <td>LP001008</td>\n",
       "      <td>Male</td>\n",
       "      <td>No</td>\n",
       "      <td>0</td>\n",
       "      <td>Graduate</td>\n",
       "      <td>No</td>\n",
       "      <td>6000</td>\n",
       "      <td>0.0</td>\n",
       "      <td>141.0</td>\n",
       "      <td>360.0</td>\n",
       "      <td>1.0</td>\n",
       "      <td>Urban</td>\n",
       "      <td>Y</td>\n",
       "    </tr>\n",
       "  </tbody>\n",
       "</table>\n",
       "</div>"
      ],
      "text/plain": [
       "    Loan_ID Gender Married Dependents     Education Self_Employed  \\\n",
       "0  LP001002   Male      No          0      Graduate            No   \n",
       "1  LP001003   Male     Yes          1      Graduate            No   \n",
       "2  LP001005   Male     Yes          0      Graduate           Yes   \n",
       "3  LP001006   Male     Yes          0  Not Graduate            No   \n",
       "4  LP001008   Male      No          0      Graduate            No   \n",
       "\n",
       "   ApplicantIncome  CoapplicantIncome  LoanAmount  Loan_Amount_Term  \\\n",
       "0             5849                0.0         NaN             360.0   \n",
       "1             4583             1508.0       128.0             360.0   \n",
       "2             3000                0.0        66.0             360.0   \n",
       "3             2583             2358.0       120.0             360.0   \n",
       "4             6000                0.0       141.0             360.0   \n",
       "\n",
       "   Credit_History Property_Area Loan_Status  \n",
       "0             1.0         Urban           Y  \n",
       "1             1.0         Rural           N  \n",
       "2             1.0         Urban           Y  \n",
       "3             1.0         Urban           Y  \n",
       "4             1.0         Urban           Y  "
      ]
     },
     "execution_count": 400,
     "metadata": {},
     "output_type": "execute_result"
    }
   ],
   "source": [
    "print(\"Shape of dataset : \",df.shape)\n",
    "df.head()"
   ]
  },
  {
   "cell_type": "markdown",
   "metadata": {},
   "source": [
    "## Exploratory Data Analysis"
   ]
  },
  {
   "cell_type": "markdown",
   "metadata": {},
   "source": [
    "#### Overall analysis"
   ]
  },
  {
   "cell_type": "code",
   "execution_count": 401,
   "metadata": {},
   "outputs": [
    {
     "name": "stdout",
     "output_type": "stream",
     "text": [
      "<class 'pandas.core.frame.DataFrame'>\n",
      "RangeIndex: 614 entries, 0 to 613\n",
      "Data columns (total 13 columns):\n",
      "Loan_ID              614 non-null object\n",
      "Gender               601 non-null object\n",
      "Married              611 non-null object\n",
      "Dependents           599 non-null object\n",
      "Education            614 non-null object\n",
      "Self_Employed        582 non-null object\n",
      "ApplicantIncome      614 non-null int64\n",
      "CoapplicantIncome    614 non-null float64\n",
      "LoanAmount           592 non-null float64\n",
      "Loan_Amount_Term     600 non-null float64\n",
      "Credit_History       564 non-null float64\n",
      "Property_Area        614 non-null object\n",
      "Loan_Status          614 non-null object\n",
      "dtypes: float64(4), int64(1), object(8)\n",
      "memory usage: 62.5+ KB\n"
     ]
    }
   ],
   "source": [
    "df.info()"
   ]
  },
  {
   "cell_type": "code",
   "execution_count": 402,
   "metadata": {},
   "outputs": [
    {
     "data": {
      "text/plain": [
       "Loan_ID               0\n",
       "Gender               13\n",
       "Married               3\n",
       "Dependents           15\n",
       "Education             0\n",
       "Self_Employed        32\n",
       "ApplicantIncome       0\n",
       "CoapplicantIncome     0\n",
       "LoanAmount           22\n",
       "Loan_Amount_Term     14\n",
       "Credit_History       50\n",
       "Property_Area         0\n",
       "Loan_Status           0\n",
       "dtype: int64"
      ]
     },
     "execution_count": 402,
     "metadata": {},
     "output_type": "execute_result"
    }
   ],
   "source": [
    "df.isnull().sum()  # check for the null value"
   ]
  },
  {
   "cell_type": "code",
   "execution_count": 403,
   "metadata": {},
   "outputs": [
    {
     "name": "stdout",
     "output_type": "stream",
     "text": [
      "Number of the columns having null values 7\n"
     ]
    }
   ],
   "source": [
    "print('Number of the columns having null values',df.isnull().any().sum())"
   ]
  },
  {
   "cell_type": "code",
   "execution_count": 404,
   "metadata": {},
   "outputs": [
    {
     "name": "stdout",
     "output_type": "stream",
     "text": [
      "Total number of null values 134\n"
     ]
    }
   ],
   "source": [
    "print('Total number of null values',df.isnull().any(axis=1).sum())"
   ]
  },
  {
   "cell_type": "code",
   "execution_count": 405,
   "metadata": {},
   "outputs": [
    {
     "data": {
      "image/png": "[encoded data removed]",
      "text/plain": [
       "<Figure size 432x288 with 1 Axes>"
      ]
     },
     "metadata": {
      "needs_background": "light"
     },
     "output_type": "display_data"
    }
   ],
   "source": [
    "plt.bar(df.columns, df.isnull().sum())\n",
    "plt.tick_params(axis= 'x', rotation=90)\n",
    "plt.show()"
   ]
  },
  {
   "cell_type": "markdown",
   "metadata": {},
   "source": [
    "### Let's first deal with the null values.\n",
    "We drop the rows with null values, because giving loan to the customers is highly based on previous history etc. So it's better to drop the value rather than using incomplete values."
   ]
  },
  {
   "cell_type": "markdown",
   "metadata": {},
   "source": [
    "### Firstly dealing with numerical variables"
   ]
  },
  {
   "cell_type": "code",
   "execution_count": 406,
   "metadata": {},
   "outputs": [],
   "source": [
    "df = df[~np.isnan(df['LoanAmount'])]\n",
    "df = df[~np.isnan(df['Loan_Amount_Term'])]\n",
    "df = df[~np.isnan(df['Credit_History'])]"
   ]
  },
  {
   "cell_type": "markdown",
   "metadata": {},
   "source": [
    "### Now handling the categorical null values.\n",
    "Firstly, we see the count per feature"
   ]
  },
  {
   "cell_type": "code",
   "execution_count": 407,
   "metadata": {},
   "outputs": [
    {
     "name": "stdout",
     "output_type": "stream",
     "text": [
      "Male      422\n",
      "Female     95\n",
      "Name: Gender, dtype: int64\n",
      "Yes    339\n",
      "No     188\n",
      "Name: Married, dtype: int64\n",
      "0     295\n",
      "2      92\n",
      "1      85\n",
      "3+     45\n",
      "Name: Dependents, dtype: int64\n",
      "No     434\n",
      "Yes     70\n",
      "Name: Self_Employed, dtype: int64\n"
     ]
    }
   ],
   "source": [
    "print(df['Gender'].value_counts())\n",
    "print(df['Married'].value_counts())\n",
    "print(df['Dependents'].value_counts())\n",
    "print(df['Self_Employed'].value_counts())"
   ]
  },
  {
   "cell_type": "code",
   "execution_count": 408,
   "metadata": {},
   "outputs": [
    {
     "data": {
      "text/plain": [
       "<matplotlib.axes._subplots.AxesSubplot at 0x7f0ccd2a8940>"
      ]
     },
     "execution_count": 408,
     "metadata": {},
     "output_type": "execute_result"
    },
    {
     "data": {
      "image/png": "[encoded data removed]",
      "text/plain": [
       "<Figure size 432x288 with 1 Axes>"
      ]
     },
     "metadata": {
      "needs_background": "light"
     },
     "output_type": "display_data"
    }
   ],
   "source": [
    "sns.countplot(data=df , x='Married', hue = 'Loan_Status')"
   ]
  },
  {
   "cell_type": "markdown",
   "metadata": {},
   "source": [
    "It's seems that people who are married gets more loan than unmarried"
   ]
  },
  {
   "cell_type": "code",
   "execution_count": 409,
   "metadata": {},
   "outputs": [],
   "source": [
    "df['Married'].fillna('Yes', inplace=True)"
   ]
  },
  {
   "cell_type": "code",
   "execution_count": 410,
   "metadata": {},
   "outputs": [
    {
     "data": {
      "text/plain": [
       "<matplotlib.axes._subplots.AxesSubplot at 0x7f0ccd205e80>"
      ]
     },
     "execution_count": 410,
     "metadata": {},
     "output_type": "execute_result"
    },
    {
     "data": {
      "image/png": "[encoded data removed]",
      "text/plain": [
       "<Figure size 432x288 with 1 Axes>"
      ]
     },
     "metadata": {
      "needs_background": "light"
     },
     "output_type": "display_data"
    }
   ],
   "source": [
    "sns.countplot( y= 'Gender', data = df, hue=\"Loan_Status\")"
   ]
  },
  {
   "cell_type": "code",
   "execution_count": 411,
   "metadata": {},
   "outputs": [],
   "source": [
    "df['Gender'].fillna('Male', inplace= True)"
   ]
  },
  {
   "cell_type": "code",
   "execution_count": 412,
   "metadata": {},
   "outputs": [
    {
     "data": {
      "text/plain": [
       "<matplotlib.axes._subplots.AxesSubplot at 0x7f0ccd15d668>"
      ]
     },
     "execution_count": 412,
     "metadata": {},
     "output_type": "execute_result"
    },
    {
     "data": {
      "image/png": "[encoded data removed]",
      "text/plain": [
       "<Figure size 432x288 with 1 Axes>"
      ]
     },
     "metadata": {
      "needs_background": "light"
     },
     "output_type": "display_data"
    }
   ],
   "source": [
    "sns.countplot(data=df, x = 'Dependents', hue= \"Loan_Status\")"
   ]
  },
  {
   "cell_type": "code",
   "execution_count": 413,
   "metadata": {},
   "outputs": [],
   "source": [
    "df['Dependents'].fillna('0', inplace =True)"
   ]
  },
  {
   "cell_type": "code",
   "execution_count": 414,
   "metadata": {},
   "outputs": [
    {
     "data": {
      "text/plain": [
       "<matplotlib.axes._subplots.AxesSubplot at 0x7f0ccd1537b8>"
      ]
     },
     "execution_count": 414,
     "metadata": {},
     "output_type": "execute_result"
    },
    {
     "data": {
      "image/png": "[encoded data removed]",
      "text/plain": [
       "<Figure size 432x288 with 1 Axes>"
      ]
     },
     "metadata": {
      "needs_background": "light"
     },
     "output_type": "display_data"
    }
   ],
   "source": [
    "sns.countplot(data= df, x= 'Self_Employed', hue= 'Loan_Status')"
   ]
  },
  {
   "cell_type": "code",
   "execution_count": 415,
   "metadata": {},
   "outputs": [],
   "source": [
    "df['Self_Employed'].fillna('No', inplace = True)"
   ]
  },
  {
   "cell_type": "code",
   "execution_count": 416,
   "metadata": {},
   "outputs": [
    {
     "data": {
      "text/html": [
       "<div>\n",
       "<style scoped>\n",
       "    .dataframe tbody tr th:only-of-type {\n",
       "        vertical-align: middle;\n",
       "    }\n",
       "\n",
       "    .dataframe tbody tr th {\n",
       "        vertical-align: top;\n",
       "    }\n",
       "\n",
       "    .dataframe thead th {\n",
       "        text-align: right;\n",
       "    }\n",
       "</style>\n",
       "<table border=\"1\" class=\"dataframe\">\n",
       "  <thead>\n",
       "    <tr style=\"text-align: right;\">\n",
       "      <th></th>\n",
       "      <th>ApplicantIncome</th>\n",
       "      <th>CoapplicantIncome</th>\n",
       "      <th>LoanAmount</th>\n",
       "      <th>Loan_Amount_Term</th>\n",
       "      <th>Credit_History</th>\n",
       "    </tr>\n",
       "  </thead>\n",
       "  <tbody>\n",
       "    <tr>\n",
       "      <th>count</th>\n",
       "      <td>529.000000</td>\n",
       "      <td>529.000000</td>\n",
       "      <td>529.000000</td>\n",
       "      <td>529.000000</td>\n",
       "      <td>529.000000</td>\n",
       "    </tr>\n",
       "    <tr>\n",
       "      <th>mean</th>\n",
       "      <td>5507.822306</td>\n",
       "      <td>1542.394934</td>\n",
       "      <td>145.852552</td>\n",
       "      <td>342.351607</td>\n",
       "      <td>0.850662</td>\n",
       "    </tr>\n",
       "    <tr>\n",
       "      <th>std</th>\n",
       "      <td>6404.132369</td>\n",
       "      <td>2524.295797</td>\n",
       "      <td>84.108409</td>\n",
       "      <td>64.861662</td>\n",
       "      <td>0.356759</td>\n",
       "    </tr>\n",
       "    <tr>\n",
       "      <th>min</th>\n",
       "      <td>150.000000</td>\n",
       "      <td>0.000000</td>\n",
       "      <td>9.000000</td>\n",
       "      <td>36.000000</td>\n",
       "      <td>0.000000</td>\n",
       "    </tr>\n",
       "    <tr>\n",
       "      <th>25%</th>\n",
       "      <td>2900.000000</td>\n",
       "      <td>0.000000</td>\n",
       "      <td>100.000000</td>\n",
       "      <td>360.000000</td>\n",
       "      <td>1.000000</td>\n",
       "    </tr>\n",
       "    <tr>\n",
       "      <th>50%</th>\n",
       "      <td>3816.000000</td>\n",
       "      <td>1086.000000</td>\n",
       "      <td>128.000000</td>\n",
       "      <td>360.000000</td>\n",
       "      <td>1.000000</td>\n",
       "    </tr>\n",
       "    <tr>\n",
       "      <th>75%</th>\n",
       "      <td>5815.000000</td>\n",
       "      <td>2232.000000</td>\n",
       "      <td>167.000000</td>\n",
       "      <td>360.000000</td>\n",
       "      <td>1.000000</td>\n",
       "    </tr>\n",
       "    <tr>\n",
       "      <th>max</th>\n",
       "      <td>81000.000000</td>\n",
       "      <td>33837.000000</td>\n",
       "      <td>700.000000</td>\n",
       "      <td>480.000000</td>\n",
       "      <td>1.000000</td>\n",
       "    </tr>\n",
       "  </tbody>\n",
       "</table>\n",
       "</div>"
      ],
      "text/plain": [
       "       ApplicantIncome  CoapplicantIncome  LoanAmount  Loan_Amount_Term  \\\n",
       "count       529.000000         529.000000  529.000000        529.000000   \n",
       "mean       5507.822306        1542.394934  145.852552        342.351607   \n",
       "std        6404.132369        2524.295797   84.108409         64.861662   \n",
       "min         150.000000           0.000000    9.000000         36.000000   \n",
       "25%        2900.000000           0.000000  100.000000        360.000000   \n",
       "50%        3816.000000        1086.000000  128.000000        360.000000   \n",
       "75%        5815.000000        2232.000000  167.000000        360.000000   \n",
       "max       81000.000000       33837.000000  700.000000        480.000000   \n",
       "\n",
       "       Credit_History  \n",
       "count      529.000000  \n",
       "mean         0.850662  \n",
       "std          0.356759  \n",
       "min          0.000000  \n",
       "25%          1.000000  \n",
       "50%          1.000000  \n",
       "75%          1.000000  \n",
       "max          1.000000  "
      ]
     },
     "execution_count": 416,
     "metadata": {},
     "output_type": "execute_result"
    }
   ],
   "source": [
    "df.describe() "
   ]
  },
  {
   "cell_type": "markdown",
   "metadata": {},
   "source": [
    "We can see that there is lot difference between the value 25%,50%,75% from mean value in few of the feature, therefore there are outliers in those feature."
   ]
  },
  {
   "cell_type": "markdown",
   "metadata": {},
   "source": [
    "Understanding distribution the of Numerical Features"
   ]
  },
  {
   "cell_type": "code",
   "execution_count": 417,
   "metadata": {},
   "outputs": [
    {
     "data": {
      "text/plain": [
       "<matplotlib.axes._subplots.AxesSubplot at 0x7f0ccd0ad7f0>"
      ]
     },
     "execution_count": 417,
     "metadata": {},
     "output_type": "execute_result"
    },
    {
     "data": {
      "image/png": "[encoded data removed]",
      "text/plain": [
       "<Figure size 432x288 with 1 Axes>"
      ]
     },
     "metadata": {
      "needs_background": "light"
     },
     "output_type": "display_data"
    }
   ],
   "source": [
    "df['ApplicantIncome'].hist() #histogram of the feature Applicant Income"
   ]
  },
  {
   "cell_type": "code",
   "execution_count": 418,
   "metadata": {},
   "outputs": [
    {
     "data": {
      "text/plain": [
       "<matplotlib.axes._subplots.AxesSubplot at 0x7f0ccd02ccc0>"
      ]
     },
     "execution_count": 418,
     "metadata": {},
     "output_type": "execute_result"
    },
    {
     "data": {
      "image/png": "[encoded data removed]",
      "text/plain": [
       "<Figure size 432x288 with 1 Axes>"
      ]
     },
     "metadata": {
      "needs_background": "light"
     },
     "output_type": "display_data"
    }
   ],
   "source": [
    "df.boxplot(column='ApplicantIncome')"
   ]
  },
  {
   "cell_type": "markdown",
   "metadata": {},
   "source": [
    "The above Box Plot confirms the presence of a lot of outliers/extreme values. This can be attributed to the income disparity in the society. "
   ]
  },
  {
   "cell_type": "code",
   "execution_count": 419,
   "metadata": {},
   "outputs": [
    {
     "data": {
      "text/plain": [
       "<matplotlib.axes._subplots.AxesSubplot at 0x7f0ccd091550>"
      ]
     },
     "execution_count": 419,
     "metadata": {},
     "output_type": "execute_result"
    },
    {
     "data": {
      "image/png": "[encoded data removed]",
      "text/plain": [
       "<Figure size 432x288 with 1 Axes>"
      ]
     },
     "metadata": {
      "needs_background": "light"
     },
     "output_type": "display_data"
    }
   ],
   "source": [
    "df.boxplot(column='ApplicantIncome', by='Education')"
   ]
  },
  {
   "cell_type": "markdown",
   "metadata": {},
   "source": [
    "Not much diference between the mean-value of graduate and non-graduate. But those who are graduate have high income, which are appearing to be outliers."
   ]
  },
  {
   "cell_type": "code",
   "execution_count": 420,
   "metadata": {},
   "outputs": [
    {
     "data": {
      "text/plain": [
       "<matplotlib.axes._subplots.AxesSubplot at 0x7f0cccf25198>"
      ]
     },
     "execution_count": 420,
     "metadata": {},
     "output_type": "execute_result"
    },
    {
     "data": {
      "image/png": "[encoded data removed]",
      "text/plain": [
       "<Figure size 432x288 with 1 Axes>"
      ]
     },
     "metadata": {
      "needs_background": "light"
     },
     "output_type": "display_data"
    }
   ],
   "source": [
    "df.boxplot(column='LoanAmount')"
   ]
  },
  {
   "cell_type": "markdown",
   "metadata": {},
   "source": [
    "Loan Amount has lot of outliers."
   ]
  },
  {
   "cell_type": "code",
   "execution_count": 421,
   "metadata": {},
   "outputs": [
    {
     "data": {
      "text/plain": [
       "<matplotlib.axes._subplots.AxesSubplot at 0x7f0ccce88da0>"
      ]
     },
     "execution_count": 421,
     "metadata": {},
     "output_type": "execute_result"
    },
    {
     "data": {
      "image/png": "[encoded data removed]",
      "text/plain": [
       "<Figure size 432x288 with 1 Axes>"
      ]
     },
     "metadata": {
      "needs_background": "light"
     },
     "output_type": "display_data"
    }
   ],
   "source": [
    "df['LoanAmount'].hist(color = 'red')"
   ]
  },
  {
   "cell_type": "code",
   "execution_count": 422,
   "metadata": {},
   "outputs": [],
   "source": [
    "#combining the Applicant and Co-Applicant Income\n",
    "df['TotalIncome'] = pd.DataFrame(df['ApplicantIncome'] + df['CoapplicantIncome']) "
   ]
  },
  {
   "cell_type": "code",
   "execution_count": 423,
   "metadata": {},
   "outputs": [],
   "source": [
    "df = df.drop(['ApplicantIncome', 'CoapplicantIncome'], axis=1)"
   ]
  },
  {
   "cell_type": "code",
   "execution_count": 424,
   "metadata": {},
   "outputs": [
    {
     "name": "stdout",
     "output_type": "stream",
     "text": [
      "Number of rows and columns: (529, 12)\n"
     ]
    }
   ],
   "source": [
    "print('Number of rows and columns:',df.shape)"
   ]
  },
  {
   "cell_type": "code",
   "execution_count": 425,
   "metadata": {},
   "outputs": [
    {
     "data": {
      "text/plain": [
       "<matplotlib.axes._subplots.AxesSubplot at 0x7f0cccefd630>"
      ]
     },
     "execution_count": 425,
     "metadata": {},
     "output_type": "execute_result"
    },
    {
     "data": {
      "image/png": "[encoded data removed]",
      "text/plain": [
       "<Figure size 432x288 with 1 Axes>"
      ]
     },
     "metadata": {
      "needs_background": "light"
     },
     "output_type": "display_data"
    }
   ],
   "source": [
    "df['TotalIncome'].hist(color='Red')"
   ]
  },
  {
   "cell_type": "markdown",
   "metadata": {},
   "source": [
    "We can see that total income is between 1000 to 10000, also data is spread onn the right hand side i.e between 40000 to 80000."
   ]
  },
  {
   "cell_type": "markdown",
   "metadata": {},
   "source": [
    "People usually apply for loan amount approximately between 90 to 140. Here also the data is spread on the right hand side approximately between 430 to 700.  "
   ]
  },
  {
   "cell_type": "code",
   "execution_count": 426,
   "metadata": {},
   "outputs": [
    {
     "data": {
      "text/html": [
       "<div>\n",
       "<style scoped>\n",
       "    .dataframe tbody tr th:only-of-type {\n",
       "        vertical-align: middle;\n",
       "    }\n",
       "\n",
       "    .dataframe tbody tr th {\n",
       "        vertical-align: top;\n",
       "    }\n",
       "\n",
       "    .dataframe thead th {\n",
       "        text-align: right;\n",
       "    }\n",
       "</style>\n",
       "<table border=\"1\" class=\"dataframe\">\n",
       "  <thead>\n",
       "    <tr style=\"text-align: right;\">\n",
       "      <th></th>\n",
       "      <th>LoanAmount</th>\n",
       "      <th>Loan_Amount_Term</th>\n",
       "      <th>Credit_History</th>\n",
       "      <th>TotalIncome</th>\n",
       "    </tr>\n",
       "  </thead>\n",
       "  <tbody>\n",
       "    <tr>\n",
       "      <th>1</th>\n",
       "      <td>128.0</td>\n",
       "      <td>360.0</td>\n",
       "      <td>1.0</td>\n",
       "      <td>6091.0</td>\n",
       "    </tr>\n",
       "    <tr>\n",
       "      <th>2</th>\n",
       "      <td>66.0</td>\n",
       "      <td>360.0</td>\n",
       "      <td>1.0</td>\n",
       "      <td>3000.0</td>\n",
       "    </tr>\n",
       "    <tr>\n",
       "      <th>3</th>\n",
       "      <td>120.0</td>\n",
       "      <td>360.0</td>\n",
       "      <td>1.0</td>\n",
       "      <td>4941.0</td>\n",
       "    </tr>\n",
       "    <tr>\n",
       "      <th>4</th>\n",
       "      <td>141.0</td>\n",
       "      <td>360.0</td>\n",
       "      <td>1.0</td>\n",
       "      <td>6000.0</td>\n",
       "    </tr>\n",
       "    <tr>\n",
       "      <th>5</th>\n",
       "      <td>267.0</td>\n",
       "      <td>360.0</td>\n",
       "      <td>1.0</td>\n",
       "      <td>9613.0</td>\n",
       "    </tr>\n",
       "  </tbody>\n",
       "</table>\n",
       "</div>"
      ],
      "text/plain": [
       "   LoanAmount  Loan_Amount_Term  Credit_History  TotalIncome\n",
       "1       128.0             360.0             1.0       6091.0\n",
       "2        66.0             360.0             1.0       3000.0\n",
       "3       120.0             360.0             1.0       4941.0\n",
       "4       141.0             360.0             1.0       6000.0\n",
       "5       267.0             360.0             1.0       9613.0"
      ]
     },
     "execution_count": 426,
     "metadata": {},
     "output_type": "execute_result"
    }
   ],
   "source": [
    "num_df = df._get_numeric_data()\n",
    "num_df.head()"
   ]
  },
  {
   "cell_type": "code",
   "execution_count": 427,
   "metadata": {},
   "outputs": [
    {
     "data": {
      "text/plain": [
       "<matplotlib.axes._subplots.AxesSubplot at 0x7f0cccd96518>"
      ]
     },
     "execution_count": 427,
     "metadata": {},
     "output_type": "execute_result"
    },
    {
     "data": {
      "image/png": "[encoded data removed]",
      "text/plain": [
       "<Figure size 432x288 with 2 Axes>"
      ]
     },
     "metadata": {
      "needs_background": "light"
     },
     "output_type": "display_data"
    }
   ],
   "source": [
    "corr = num_df.corr()\n",
    "sns.heatmap(corr[(corr >= 0.5)], cmap = 'viridis', vmax = 1.0, vmin = 1.0, annot = True, square=True, \n",
    "            annot_kws={'size':8})"
   ]
  },
  {
   "cell_type": "markdown",
   "metadata": {},
   "source": [
    "The relationship between TotalIncome and LoanAmount is pretty good. The whitspace indicate that there is no relationship between the variables.\n"
   ]
  },
  {
   "cell_type": "code",
   "execution_count": 428,
   "metadata": {},
   "outputs": [
    {
     "data": {
      "text/plain": [
       "<seaborn.axisgrid.FacetGrid at 0x7f0ccce03c50>"
      ]
     },
     "execution_count": 428,
     "metadata": {},
     "output_type": "execute_result"
    },
    {
     "data": {
      "image/png": "[encoded data removed]",
      "text/plain": [
       "<Figure size 428.75x360 with 1 Axes>"
      ]
     },
     "metadata": {
      "needs_background": "light"
     },
     "output_type": "display_data"
    }
   ],
   "source": [
    "sns.lmplot(data=df, x='TotalIncome', y='LoanAmount', hue='Loan_Status', markers=['o', '*'])"
   ]
  },
  {
   "cell_type": "markdown",
   "metadata": {},
   "source": [
    "As TotalIncome increases LoanAmount also increase i.e. TotalIncome is approximately directly proportional to LoanAmount"
   ]
  },
  {
   "cell_type": "code",
   "execution_count": 429,
   "metadata": {},
   "outputs": [
    {
     "data": {
      "text/html": [
       "<div>\n",
       "<style scoped>\n",
       "    .dataframe tbody tr th:only-of-type {\n",
       "        vertical-align: middle;\n",
       "    }\n",
       "\n",
       "    .dataframe tbody tr th {\n",
       "        vertical-align: top;\n",
       "    }\n",
       "\n",
       "    .dataframe thead th {\n",
       "        text-align: right;\n",
       "    }\n",
       "</style>\n",
       "<table border=\"1\" class=\"dataframe\">\n",
       "  <thead>\n",
       "    <tr style=\"text-align: right;\">\n",
       "      <th></th>\n",
       "      <th>Loan_ID</th>\n",
       "      <th>Gender</th>\n",
       "      <th>Married</th>\n",
       "      <th>Dependents</th>\n",
       "      <th>Education</th>\n",
       "      <th>Self_Employed</th>\n",
       "      <th>LoanAmount</th>\n",
       "      <th>Loan_Amount_Term</th>\n",
       "      <th>Credit_History</th>\n",
       "      <th>Property_Area</th>\n",
       "      <th>Loan_Status</th>\n",
       "      <th>TotalIncome</th>\n",
       "    </tr>\n",
       "  </thead>\n",
       "  <tbody>\n",
       "    <tr>\n",
       "      <th>1</th>\n",
       "      <td>LP001003</td>\n",
       "      <td>Male</td>\n",
       "      <td>Yes</td>\n",
       "      <td>1</td>\n",
       "      <td>Graduate</td>\n",
       "      <td>No</td>\n",
       "      <td>128.0</td>\n",
       "      <td>360.0</td>\n",
       "      <td>1.0</td>\n",
       "      <td>Rural</td>\n",
       "      <td>0</td>\n",
       "      <td>6091.0</td>\n",
       "    </tr>\n",
       "    <tr>\n",
       "      <th>2</th>\n",
       "      <td>LP001005</td>\n",
       "      <td>Male</td>\n",
       "      <td>Yes</td>\n",
       "      <td>0</td>\n",
       "      <td>Graduate</td>\n",
       "      <td>Yes</td>\n",
       "      <td>66.0</td>\n",
       "      <td>360.0</td>\n",
       "      <td>1.0</td>\n",
       "      <td>Urban</td>\n",
       "      <td>1</td>\n",
       "      <td>3000.0</td>\n",
       "    </tr>\n",
       "    <tr>\n",
       "      <th>3</th>\n",
       "      <td>LP001006</td>\n",
       "      <td>Male</td>\n",
       "      <td>Yes</td>\n",
       "      <td>0</td>\n",
       "      <td>Not Graduate</td>\n",
       "      <td>No</td>\n",
       "      <td>120.0</td>\n",
       "      <td>360.0</td>\n",
       "      <td>1.0</td>\n",
       "      <td>Urban</td>\n",
       "      <td>1</td>\n",
       "      <td>4941.0</td>\n",
       "    </tr>\n",
       "    <tr>\n",
       "      <th>4</th>\n",
       "      <td>LP001008</td>\n",
       "      <td>Male</td>\n",
       "      <td>No</td>\n",
       "      <td>0</td>\n",
       "      <td>Graduate</td>\n",
       "      <td>No</td>\n",
       "      <td>141.0</td>\n",
       "      <td>360.0</td>\n",
       "      <td>1.0</td>\n",
       "      <td>Urban</td>\n",
       "      <td>1</td>\n",
       "      <td>6000.0</td>\n",
       "    </tr>\n",
       "    <tr>\n",
       "      <th>5</th>\n",
       "      <td>LP001011</td>\n",
       "      <td>Male</td>\n",
       "      <td>Yes</td>\n",
       "      <td>2</td>\n",
       "      <td>Graduate</td>\n",
       "      <td>Yes</td>\n",
       "      <td>267.0</td>\n",
       "      <td>360.0</td>\n",
       "      <td>1.0</td>\n",
       "      <td>Urban</td>\n",
       "      <td>1</td>\n",
       "      <td>9613.0</td>\n",
       "    </tr>\n",
       "  </tbody>\n",
       "</table>\n",
       "</div>"
      ],
      "text/plain": [
       "    Loan_ID Gender Married Dependents     Education Self_Employed  LoanAmount  \\\n",
       "1  LP001003   Male     Yes          1      Graduate            No       128.0   \n",
       "2  LP001005   Male     Yes          0      Graduate           Yes        66.0   \n",
       "3  LP001006   Male     Yes          0  Not Graduate            No       120.0   \n",
       "4  LP001008   Male      No          0      Graduate            No       141.0   \n",
       "5  LP001011   Male     Yes          2      Graduate           Yes       267.0   \n",
       "\n",
       "   Loan_Amount_Term  Credit_History Property_Area  Loan_Status  TotalIncome  \n",
       "1             360.0             1.0         Rural            0       6091.0  \n",
       "2             360.0             1.0         Urban            1       3000.0  \n",
       "3             360.0             1.0         Urban            1       4941.0  \n",
       "4             360.0             1.0         Urban            1       6000.0  \n",
       "5             360.0             1.0         Urban            1       9613.0  "
      ]
     },
     "execution_count": 429,
     "metadata": {},
     "output_type": "execute_result"
    }
   ],
   "source": [
    "df['Loan_Status']=pd.get_dummies(df['Loan_Status'], drop_first=True) #converting categorical variable to numerical\n",
    "df.head()"
   ]
  },
  {
   "cell_type": "code",
   "execution_count": 430,
   "metadata": {},
   "outputs": [
    {
     "data": {
      "text/plain": [
       "<seaborn.axisgrid.FacetGrid at 0x7f0cccc9c080>"
      ]
     },
     "execution_count": 430,
     "metadata": {},
     "output_type": "execute_result"
    },
    {
     "data": {
      "image/png": "[encoded data removed]",
      "text/plain": [
       "<Figure size 720x720 with 4 Axes>"
      ]
     },
     "metadata": {
      "needs_background": "light"
     },
     "output_type": "display_data"
    }
   ],
   "source": [
    "sns.lmplot(data=df ,x=\"TotalIncome\" , y = \"LoanAmount\" ,row='Loan_Status', col = \"Credit_History\")"
   ]
  },
  {
   "cell_type": "markdown",
   "metadata": {},
   "source": [
    "Credit History plays a vital role in approval of the Loan."
   ]
  },
  {
   "cell_type": "markdown",
   "metadata": {},
   "source": [
    "Let's see how education and gender affects the approval of the loan."
   ]
  },
  {
   "cell_type": "code",
   "execution_count": 431,
   "metadata": {},
   "outputs": [
    {
     "data": {
      "text/html": [
       "<div>\n",
       "<style scoped>\n",
       "    .dataframe tbody tr th:only-of-type {\n",
       "        vertical-align: middle;\n",
       "    }\n",
       "\n",
       "    .dataframe tbody tr th {\n",
       "        vertical-align: top;\n",
       "    }\n",
       "\n",
       "    .dataframe thead th {\n",
       "        text-align: right;\n",
       "    }\n",
       "</style>\n",
       "<table border=\"1\" class=\"dataframe\">\n",
       "  <thead>\n",
       "    <tr style=\"text-align: right;\">\n",
       "      <th></th>\n",
       "      <th>Education</th>\n",
       "      <th>Loan_Status</th>\n",
       "    </tr>\n",
       "  </thead>\n",
       "  <tbody>\n",
       "    <tr>\n",
       "      <th>1</th>\n",
       "      <td>Graduate, Male</td>\n",
       "      <td>0</td>\n",
       "    </tr>\n",
       "    <tr>\n",
       "      <th>2</th>\n",
       "      <td>Graduate, Male</td>\n",
       "      <td>1</td>\n",
       "    </tr>\n",
       "    <tr>\n",
       "      <th>3</th>\n",
       "      <td>Not Graduate, Male</td>\n",
       "      <td>1</td>\n",
       "    </tr>\n",
       "    <tr>\n",
       "      <th>4</th>\n",
       "      <td>Graduate, Male</td>\n",
       "      <td>1</td>\n",
       "    </tr>\n",
       "    <tr>\n",
       "      <th>5</th>\n",
       "      <td>Graduate, Male</td>\n",
       "      <td>1</td>\n",
       "    </tr>\n",
       "  </tbody>\n",
       "</table>\n",
       "</div>"
      ],
      "text/plain": [
       "            Education  Loan_Status\n",
       "1      Graduate, Male            0\n",
       "2      Graduate, Male            1\n",
       "3  Not Graduate, Male            1\n",
       "4      Graduate, Male            1\n",
       "5      Graduate, Male            1"
      ]
     },
     "execution_count": 431,
     "metadata": {},
     "output_type": "execute_result"
    }
   ],
   "source": [
    "df1 = df[['Education','Gender','Loan_Status']]\n",
    "df1 = pd.concat([df1['Education'].str.cat(df1['Gender'], sep=', '), df1['Loan_Status']], axis=1)\n",
    "df1.head()"
   ]
  },
  {
   "cell_type": "code",
   "execution_count": 432,
   "metadata": {},
   "outputs": [
    {
     "data": {
      "text/html": [
       "<div>\n",
       "<style scoped>\n",
       "    .dataframe tbody tr th:only-of-type {\n",
       "        vertical-align: middle;\n",
       "    }\n",
       "\n",
       "    .dataframe tbody tr th {\n",
       "        vertical-align: top;\n",
       "    }\n",
       "\n",
       "    .dataframe thead th {\n",
       "        text-align: right;\n",
       "    }\n",
       "</style>\n",
       "<table border=\"1\" class=\"dataframe\">\n",
       "  <thead>\n",
       "    <tr style=\"text-align: right;\">\n",
       "      <th></th>\n",
       "      <th>Education</th>\n",
       "      <th>Loan_Status</th>\n",
       "    </tr>\n",
       "  </thead>\n",
       "  <tbody>\n",
       "    <tr>\n",
       "      <th>2</th>\n",
       "      <td>Graduate, Male</td>\n",
       "      <td>1</td>\n",
       "    </tr>\n",
       "    <tr>\n",
       "      <th>3</th>\n",
       "      <td>Not Graduate, Male</td>\n",
       "      <td>1</td>\n",
       "    </tr>\n",
       "    <tr>\n",
       "      <th>4</th>\n",
       "      <td>Graduate, Male</td>\n",
       "      <td>1</td>\n",
       "    </tr>\n",
       "    <tr>\n",
       "      <th>5</th>\n",
       "      <td>Graduate, Male</td>\n",
       "      <td>1</td>\n",
       "    </tr>\n",
       "    <tr>\n",
       "      <th>6</th>\n",
       "      <td>Not Graduate, Male</td>\n",
       "      <td>1</td>\n",
       "    </tr>\n",
       "  </tbody>\n",
       "</table>\n",
       "</div>"
      ],
      "text/plain": [
       "            Education  Loan_Status\n",
       "2      Graduate, Male            1\n",
       "3  Not Graduate, Male            1\n",
       "4      Graduate, Male            1\n",
       "5      Graduate, Male            1\n",
       "6  Not Graduate, Male            1"
      ]
     },
     "execution_count": 432,
     "metadata": {},
     "output_type": "execute_result"
    }
   ],
   "source": [
    "df1 = df1[df1['Loan_Status']==1]\n",
    "df1.head()"
   ]
  },
  {
   "cell_type": "code",
   "execution_count": 433,
   "metadata": {},
   "outputs": [],
   "source": [
    "df1 = df1.Education.value_counts().to_frame()"
   ]
  },
  {
   "cell_type": "code",
   "execution_count": 434,
   "metadata": {},
   "outputs": [
    {
     "data": {
      "text/html": [
       "<div>\n",
       "<style scoped>\n",
       "    .dataframe tbody tr th:only-of-type {\n",
       "        vertical-align: middle;\n",
       "    }\n",
       "\n",
       "    .dataframe tbody tr th {\n",
       "        vertical-align: top;\n",
       "    }\n",
       "\n",
       "    .dataframe thead th {\n",
       "        text-align: right;\n",
       "    }\n",
       "</style>\n",
       "<table border=\"1\" class=\"dataframe\">\n",
       "  <thead>\n",
       "    <tr style=\"text-align: right;\">\n",
       "      <th></th>\n",
       "      <th>Frequency</th>\n",
       "    </tr>\n",
       "    <tr>\n",
       "      <th>Demographic</th>\n",
       "      <th></th>\n",
       "    </tr>\n",
       "  </thead>\n",
       "  <tbody>\n",
       "    <tr>\n",
       "      <th>Graduate, Male</th>\n",
       "      <td>249</td>\n",
       "    </tr>\n",
       "    <tr>\n",
       "      <th>Not Graduate, Male</th>\n",
       "      <td>56</td>\n",
       "    </tr>\n",
       "    <tr>\n",
       "      <th>Graduate, Female</th>\n",
       "      <td>50</td>\n",
       "    </tr>\n",
       "    <tr>\n",
       "      <th>Not Graduate, Female</th>\n",
       "      <td>11</td>\n",
       "    </tr>\n",
       "  </tbody>\n",
       "</table>\n",
       "</div>"
      ],
      "text/plain": [
       "                      Frequency\n",
       "Demographic                    \n",
       "Graduate, Male              249\n",
       "Not Graduate, Male           56\n",
       "Graduate, Female             50\n",
       "Not Graduate, Female         11"
      ]
     },
     "execution_count": 434,
     "metadata": {},
     "output_type": "execute_result"
    }
   ],
   "source": [
    "df1.rename(columns={'Education':'Frequency'}, inplace=True)\n",
    "df1.index.name = \"Demographic\"\n",
    "df1.head()"
   ]
  },
  {
   "cell_type": "code",
   "execution_count": 435,
   "metadata": {},
   "outputs": [
    {
     "data": {
      "image/png": "[encoded data removed]",
      "text/plain": [
       "<Figure size 432x288 with 1 Axes>"
      ]
     },
     "metadata": {},
     "output_type": "display_data"
    }
   ],
   "source": [
    "demo = df1.index\n",
    "freq = df1.Frequency\n",
    "plt.pie(freq, labels=demo, startangle=90, autopct=\"%0.1f%%\")\n",
    "plt.show()"
   ]
  },
  {
   "cell_type": "markdown",
   "metadata": {},
   "source": [
    "Education does impact the approval of the loan i.e. graduate have higher chances than non-graduate. We observe that male graduate have higher percentage of approval of the loan than the female graduate.\n"
   ]
  },
  {
   "cell_type": "code",
   "execution_count": 436,
   "metadata": {},
   "outputs": [
    {
     "data": {
      "text/plain": [
       "<matplotlib.axes._subplots.AxesSubplot at 0x7f0ccd284cc0>"
      ]
     },
     "execution_count": 436,
     "metadata": {},
     "output_type": "execute_result"
    },
    {
     "data": {
      "image/png": "[encoded data removed]",
      "text/plain": [
       "<Figure size 432x288 with 1 Axes>"
      ]
     },
     "metadata": {
      "needs_background": "light"
     },
     "output_type": "display_data"
    }
   ],
   "source": [
    "sns.swarmplot(data=df, x='Property_Area', y='TotalIncome', hue='Loan_Status', dodge=True) #checking with property area."
   ]
  },
  {
   "cell_type": "markdown",
   "metadata": {},
   "source": [
    "TotalIncome doesnot have any impact on the location of the property area.   "
   ]
  },
  {
   "cell_type": "markdown",
   "metadata": {},
   "source": [
    "Features in dataset"
   ]
  },
  {
   "cell_type": "code",
   "execution_count": 437,
   "metadata": {},
   "outputs": [
    {
     "data": {
      "text/plain": [
       "1    366\n",
       "0    163\n",
       "Name: Loan_Status, dtype: int64"
      ]
     },
     "execution_count": 437,
     "metadata": {},
     "output_type": "execute_result"
    }
   ],
   "source": [
    "df.Loan_Status.value_counts() #checking for the class balance"
   ]
  },
  {
   "cell_type": "markdown",
   "metadata": {},
   "source": [
    "## Data Preprocessing"
   ]
  },
  {
   "cell_type": "code",
   "execution_count": 438,
   "metadata": {},
   "outputs": [
    {
     "data": {
      "text/html": [
       "<div>\n",
       "<style scoped>\n",
       "    .dataframe tbody tr th:only-of-type {\n",
       "        vertical-align: middle;\n",
       "    }\n",
       "\n",
       "    .dataframe tbody tr th {\n",
       "        vertical-align: top;\n",
       "    }\n",
       "\n",
       "    .dataframe thead th {\n",
       "        text-align: right;\n",
       "    }\n",
       "</style>\n",
       "<table border=\"1\" class=\"dataframe\">\n",
       "  <thead>\n",
       "    <tr style=\"text-align: right;\">\n",
       "      <th></th>\n",
       "      <th>Gender</th>\n",
       "      <th>Married</th>\n",
       "      <th>Dependents</th>\n",
       "      <th>Education</th>\n",
       "      <th>Self_Employed</th>\n",
       "      <th>LoanAmount</th>\n",
       "      <th>Loan_Amount_Term</th>\n",
       "      <th>Credit_History</th>\n",
       "      <th>Property_Area</th>\n",
       "      <th>TotalIncome</th>\n",
       "    </tr>\n",
       "  </thead>\n",
       "  <tbody>\n",
       "    <tr>\n",
       "      <th>1</th>\n",
       "      <td>Male</td>\n",
       "      <td>Yes</td>\n",
       "      <td>1</td>\n",
       "      <td>Graduate</td>\n",
       "      <td>No</td>\n",
       "      <td>128.0</td>\n",
       "      <td>360.0</td>\n",
       "      <td>1.0</td>\n",
       "      <td>Rural</td>\n",
       "      <td>6091.0</td>\n",
       "    </tr>\n",
       "    <tr>\n",
       "      <th>2</th>\n",
       "      <td>Male</td>\n",
       "      <td>Yes</td>\n",
       "      <td>0</td>\n",
       "      <td>Graduate</td>\n",
       "      <td>Yes</td>\n",
       "      <td>66.0</td>\n",
       "      <td>360.0</td>\n",
       "      <td>1.0</td>\n",
       "      <td>Urban</td>\n",
       "      <td>3000.0</td>\n",
       "    </tr>\n",
       "    <tr>\n",
       "      <th>3</th>\n",
       "      <td>Male</td>\n",
       "      <td>Yes</td>\n",
       "      <td>0</td>\n",
       "      <td>Not Graduate</td>\n",
       "      <td>No</td>\n",
       "      <td>120.0</td>\n",
       "      <td>360.0</td>\n",
       "      <td>1.0</td>\n",
       "      <td>Urban</td>\n",
       "      <td>4941.0</td>\n",
       "    </tr>\n",
       "    <tr>\n",
       "      <th>4</th>\n",
       "      <td>Male</td>\n",
       "      <td>No</td>\n",
       "      <td>0</td>\n",
       "      <td>Graduate</td>\n",
       "      <td>No</td>\n",
       "      <td>141.0</td>\n",
       "      <td>360.0</td>\n",
       "      <td>1.0</td>\n",
       "      <td>Urban</td>\n",
       "      <td>6000.0</td>\n",
       "    </tr>\n",
       "    <tr>\n",
       "      <th>5</th>\n",
       "      <td>Male</td>\n",
       "      <td>Yes</td>\n",
       "      <td>2</td>\n",
       "      <td>Graduate</td>\n",
       "      <td>Yes</td>\n",
       "      <td>267.0</td>\n",
       "      <td>360.0</td>\n",
       "      <td>1.0</td>\n",
       "      <td>Urban</td>\n",
       "      <td>9613.0</td>\n",
       "    </tr>\n",
       "  </tbody>\n",
       "</table>\n",
       "</div>"
      ],
      "text/plain": [
       "  Gender Married Dependents     Education Self_Employed  LoanAmount  \\\n",
       "1   Male     Yes          1      Graduate            No       128.0   \n",
       "2   Male     Yes          0      Graduate           Yes        66.0   \n",
       "3   Male     Yes          0  Not Graduate            No       120.0   \n",
       "4   Male      No          0      Graduate            No       141.0   \n",
       "5   Male     Yes          2      Graduate           Yes       267.0   \n",
       "\n",
       "   Loan_Amount_Term  Credit_History Property_Area  TotalIncome  \n",
       "1             360.0             1.0         Rural       6091.0  \n",
       "2             360.0             1.0         Urban       3000.0  \n",
       "3             360.0             1.0         Urban       4941.0  \n",
       "4             360.0             1.0         Urban       6000.0  \n",
       "5             360.0             1.0         Urban       9613.0  "
      ]
     },
     "execution_count": 438,
     "metadata": {},
     "output_type": "execute_result"
    }
   ],
   "source": [
    "df_x = df\n",
    "df_x = df_x.drop(['Loan_ID', 'Loan_Status'], axis=1)\n",
    "df_x.head()"
   ]
  },
  {
   "cell_type": "markdown",
   "metadata": {},
   "source": [
    "Now handling the categorical variable's value for the model."
   ]
  },
  {
   "cell_type": "markdown",
   "metadata": {},
   "source": [
    "Applying the log function will remove the skewness of data and will make it normal. As total income is skewed i have applied log of that which makes it normal so that many machine learning algorithms can be applied smoothly. "
   ]
  },
  {
   "cell_type": "code",
   "execution_count": 439,
   "metadata": {},
   "outputs": [
    {
     "data": {
      "text/plain": [
       "<matplotlib.axes._subplots.AxesSubplot at 0x7f0ccc8ffc18>"
      ]
     },
     "execution_count": 439,
     "metadata": {},
     "output_type": "execute_result"
    },
    {
     "data": {
      "image/png": "[encoded data removed]",
      "text/plain": [
       "<Figure size 432x288 with 1 Axes>"
      ]
     },
     "metadata": {
      "needs_background": "light"
     },
     "output_type": "display_data"
    }
   ],
   "source": [
    "df_x['TotalIncome'] = np.log(df_x['TotalIncome'])\n",
    "sns.distplot(df_x['TotalIncome'])"
   ]
  },
  {
   "cell_type": "code",
   "execution_count": 440,
   "metadata": {},
   "outputs": [
    {
     "data": {
      "text/plain": [
       "<matplotlib.axes._subplots.AxesSubplot at 0x7f0ccc62af28>"
      ]
     },
     "execution_count": 440,
     "metadata": {},
     "output_type": "execute_result"
    },
    {
     "data": {
      "image/png": "[encoded data removed]",
      "text/plain": [
       "<Figure size 432x288 with 1 Axes>"
      ]
     },
     "metadata": {
      "needs_background": "light"
     },
     "output_type": "display_data"
    }
   ],
   "source": [
    "df_x['LoanAmount'] = np.log(df_x['LoanAmount'])\n",
    "sns.distplot(df_x['LoanAmount'])"
   ]
  },
  {
   "cell_type": "markdown",
   "metadata": {},
   "source": [
    "### Handling Categorical variables with LabelEncoder."
   ]
  },
  {
   "cell_type": "code",
   "execution_count": 442,
   "metadata": {},
   "outputs": [
    {
     "data": {
      "text/html": [
       "<div>\n",
       "<style scoped>\n",
       "    .dataframe tbody tr th:only-of-type {\n",
       "        vertical-align: middle;\n",
       "    }\n",
       "\n",
       "    .dataframe tbody tr th {\n",
       "        vertical-align: top;\n",
       "    }\n",
       "\n",
       "    .dataframe thead th {\n",
       "        text-align: right;\n",
       "    }\n",
       "</style>\n",
       "<table border=\"1\" class=\"dataframe\">\n",
       "  <thead>\n",
       "    <tr style=\"text-align: right;\">\n",
       "      <th></th>\n",
       "      <th>Gender</th>\n",
       "      <th>Married</th>\n",
       "      <th>Dependents</th>\n",
       "      <th>Education</th>\n",
       "      <th>Self_Employed</th>\n",
       "      <th>LoanAmount</th>\n",
       "      <th>Loan_Amount_Term</th>\n",
       "      <th>Credit_History</th>\n",
       "      <th>Property_Area</th>\n",
       "      <th>TotalIncome</th>\n",
       "    </tr>\n",
       "  </thead>\n",
       "  <tbody>\n",
       "    <tr>\n",
       "      <th>1</th>\n",
       "      <td>1</td>\n",
       "      <td>1</td>\n",
       "      <td>1</td>\n",
       "      <td>0</td>\n",
       "      <td>0</td>\n",
       "      <td>4.852030</td>\n",
       "      <td>360.0</td>\n",
       "      <td>1.0</td>\n",
       "      <td>0</td>\n",
       "      <td>8.714568</td>\n",
       "    </tr>\n",
       "    <tr>\n",
       "      <th>2</th>\n",
       "      <td>1</td>\n",
       "      <td>1</td>\n",
       "      <td>0</td>\n",
       "      <td>0</td>\n",
       "      <td>1</td>\n",
       "      <td>4.189655</td>\n",
       "      <td>360.0</td>\n",
       "      <td>1.0</td>\n",
       "      <td>2</td>\n",
       "      <td>8.006368</td>\n",
       "    </tr>\n",
       "    <tr>\n",
       "      <th>3</th>\n",
       "      <td>1</td>\n",
       "      <td>1</td>\n",
       "      <td>0</td>\n",
       "      <td>1</td>\n",
       "      <td>0</td>\n",
       "      <td>4.787492</td>\n",
       "      <td>360.0</td>\n",
       "      <td>1.0</td>\n",
       "      <td>2</td>\n",
       "      <td>8.505323</td>\n",
       "    </tr>\n",
       "    <tr>\n",
       "      <th>4</th>\n",
       "      <td>1</td>\n",
       "      <td>0</td>\n",
       "      <td>0</td>\n",
       "      <td>0</td>\n",
       "      <td>0</td>\n",
       "      <td>4.948760</td>\n",
       "      <td>360.0</td>\n",
       "      <td>1.0</td>\n",
       "      <td>2</td>\n",
       "      <td>8.699515</td>\n",
       "    </tr>\n",
       "    <tr>\n",
       "      <th>5</th>\n",
       "      <td>1</td>\n",
       "      <td>1</td>\n",
       "      <td>2</td>\n",
       "      <td>0</td>\n",
       "      <td>1</td>\n",
       "      <td>5.587249</td>\n",
       "      <td>360.0</td>\n",
       "      <td>1.0</td>\n",
       "      <td>2</td>\n",
       "      <td>9.170872</td>\n",
       "    </tr>\n",
       "  </tbody>\n",
       "</table>\n",
       "</div>"
      ],
      "text/plain": [
       "   Gender  Married  Dependents  Education  Self_Employed  LoanAmount  \\\n",
       "1       1        1           1          0              0    4.852030   \n",
       "2       1        1           0          0              1    4.189655   \n",
       "3       1        1           0          1              0    4.787492   \n",
       "4       1        0           0          0              0    4.948760   \n",
       "5       1        1           2          0              1    5.587249   \n",
       "\n",
       "   Loan_Amount_Term  Credit_History  Property_Area  TotalIncome  \n",
       "1             360.0             1.0              0     8.714568  \n",
       "2             360.0             1.0              2     8.006368  \n",
       "3             360.0             1.0              2     8.505323  \n",
       "4             360.0             1.0              2     8.699515  \n",
       "5             360.0             1.0              2     9.170872  "
      ]
     },
     "execution_count": 442,
     "metadata": {},
     "output_type": "execute_result"
    }
   ],
   "source": [
    "cat_cols = ['Gender', 'Married', 'Education', 'Dependents', 'Property_Area', 'Self_Employed']\n",
    "for n in cat_cols:\n",
    "    label = LabelEncoder()\n",
    "    df_x[n] = label.fit_transform(df_x[n].astype('str'))\n",
    "    \n",
    "df_x.head()"
   ]
  },
  {
   "cell_type": "code",
   "execution_count": 444,
   "metadata": {},
   "outputs": [],
   "source": [
    "df_y = df[['Loan_Status']] # dependent variable"
   ]
  },
  {
   "cell_type": "markdown",
   "metadata": {},
   "source": [
    "### Train and Test Split of dataset"
   ]
  },
  {
   "cell_type": "code",
   "execution_count": 588,
   "metadata": {},
   "outputs": [],
   "source": [
    "x_train, x_test, y_train, y_test = train_test_split(df_x, df_y, test_size=0.4, random_state= 4)"
   ]
  },
  {
   "cell_type": "code",
   "execution_count": 589,
   "metadata": {},
   "outputs": [
    {
     "name": "stdout",
     "output_type": "stream",
     "text": [
      "Number of data points in train data: 317\n",
      "Number of data points in test data: 212\n"
     ]
    }
   ],
   "source": [
    "print('Number of data points in train data:', x_train.shape[0])\n",
    "print('Number of data points in test data:', x_test.shape[0])"
   ]
  },
  {
   "cell_type": "markdown",
   "metadata": {},
   "source": [
    "# Model Building"
   ]
  },
  {
   "cell_type": "markdown",
   "metadata": {},
   "source": [
    "#### What is Model Evaluation?\n",
    "Model Evaluation is an integral part of the model development process. It helps to find the best model that represents our data and how well the chosen model will work in the future"
   ]
  },
  {
   "cell_type": "markdown",
   "metadata": {},
   "source": [
    "Models which are used in this projects are:\n",
    "\n",
    "<b>1)Logistic Regression <br>\n",
    "2)Support Vector Machine <br>\n",
    "3)Random Forest Classifier <br>\n",
    "4)ANN    "
   ]
  },
  {
   "cell_type": "markdown",
   "metadata": {},
   "source": [
    "Model will be evaluated on the basis of parameters:\n",
    "\n",
    "1) Accuracy_Score <br>\n",
    "2) Precision <br>\n",
    "3) Recall <br>\n",
    "4) F1-score <br>"
   ]
  },
  {
   "cell_type": "markdown",
   "metadata": {},
   "source": [
    "## Logistic Regression"
   ]
  },
  {
   "cell_type": "code",
   "execution_count": 590,
   "metadata": {},
   "outputs": [],
   "source": [
    "logmodel = LogisticRegression()"
   ]
  },
  {
   "cell_type": "code",
   "execution_count": 591,
   "metadata": {},
   "outputs": [
    {
     "data": {
      "text/plain": [
       "LogisticRegression(C=1.0, class_weight=None, dual=False, fit_intercept=True,\n",
       "                   intercept_scaling=1, l1_ratio=None, max_iter=100,\n",
       "                   multi_class='warn', n_jobs=None, penalty='l2',\n",
       "                   random_state=None, solver='warn', tol=0.0001, verbose=0,\n",
       "                   warm_start=False)"
      ]
     },
     "execution_count": 591,
     "metadata": {},
     "output_type": "execute_result"
    }
   ],
   "source": [
    "logmodel.fit(x_train, y_train)"
   ]
  },
  {
   "cell_type": "code",
   "execution_count": 592,
   "metadata": {},
   "outputs": [],
   "source": [
    "y_pred = logmodel.predict(x_test)"
   ]
  },
  {
   "cell_type": "code",
   "execution_count": 593,
   "metadata": {},
   "outputs": [
    {
     "name": "stdout",
     "output_type": "stream",
     "text": [
      "Accuracy of the Model is: 81.13207547169812\n"
     ]
    }
   ],
   "source": [
    "# Accuracy of the Model\n",
    "accu1 = accuracy_score(y_test,y_pred)*100\n",
    "print('Accuracy of the Model is:', acuu1)"
   ]
  },
  {
   "cell_type": "code",
   "execution_count": 594,
   "metadata": {},
   "outputs": [
    {
     "data": {
      "text/html": [
       "<div>\n",
       "<style scoped>\n",
       "    .dataframe tbody tr th:only-of-type {\n",
       "        vertical-align: middle;\n",
       "    }\n",
       "\n",
       "    .dataframe tbody tr th {\n",
       "        vertical-align: top;\n",
       "    }\n",
       "\n",
       "    .dataframe thead th {\n",
       "        text-align: right;\n",
       "    }\n",
       "</style>\n",
       "<table border=\"1\" class=\"dataframe\">\n",
       "  <thead>\n",
       "    <tr style=\"text-align: right;\">\n",
       "      <th></th>\n",
       "      <th>Predict_N</th>\n",
       "      <th>Predict_Y</th>\n",
       "    </tr>\n",
       "  </thead>\n",
       "  <tbody>\n",
       "    <tr>\n",
       "      <th>Actual_N</th>\n",
       "      <td>32</td>\n",
       "      <td>37</td>\n",
       "    </tr>\n",
       "    <tr>\n",
       "      <th>Actual_Y</th>\n",
       "      <td>3</td>\n",
       "      <td>140</td>\n",
       "    </tr>\n",
       "  </tbody>\n",
       "</table>\n",
       "</div>"
      ],
      "text/plain": [
       "          Predict_N  Predict_Y\n",
       "Actual_N         32         37\n",
       "Actual_Y          3        140"
      ]
     },
     "execution_count": 594,
     "metadata": {},
     "output_type": "execute_result"
    }
   ],
   "source": [
    "cLR = confusion_matrix(y_test,y_pred)\n",
    "conf1 = pd.DataFrame(cLR,columns=['Predict_N', 'Predict_Y'], index=['Actual_N', 'Actual_Y'])\n",
    "conf1"
   ]
  },
  {
   "cell_type": "code",
   "execution_count": 595,
   "metadata": {},
   "outputs": [],
   "source": [
    "tn1, fp1, fn1, tp1 = confusion_matrix(y_test, y_pred).ravel()"
   ]
  },
  {
   "cell_type": "code",
   "execution_count": 596,
   "metadata": {},
   "outputs": [
    {
     "name": "stdout",
     "output_type": "stream",
     "text": [
      "Precision is: 0.7909604519774012\n",
      "Recall is: 0.9790209790209791\n"
     ]
    }
   ],
   "source": [
    "#Precision and Recall\n",
    "p1 = tp1/(tp1 + fp1)\n",
    "r1 = tp1/(tp1 + fn1)\n",
    "\n",
    "print('Precision is:', p1)\n",
    "print('Recall is:', r1)"
   ]
  },
  {
   "cell_type": "code",
   "execution_count": 597,
   "metadata": {},
   "outputs": [
    {
     "name": "stdout",
     "output_type": "stream",
     "text": [
      "The F1 score for Logistic Regression is: 0.8750000000000001\n"
     ]
    }
   ],
   "source": [
    "LR_f1 = f1_score(y_test,y_pred)\n",
    "print('The F1 score for Logistic Regression is:',LR_f1)"
   ]
  },
  {
   "cell_type": "markdown",
   "metadata": {},
   "source": [
    "## Support Vector Machine"
   ]
  },
  {
   "cell_type": "code",
   "execution_count": 602,
   "metadata": {},
   "outputs": [],
   "source": [
    "model2 = SVC(kernel = 'poly', random_state=8)\n",
    "model2.fit(x_train, y_train)\n",
    "\n",
    "y_pred2 = model2.predict(x_test)"
   ]
  },
  {
   "cell_type": "code",
   "execution_count": 603,
   "metadata": {},
   "outputs": [
    {
     "name": "stdout",
     "output_type": "stream",
     "text": [
      "The accuracy of the model is: 81.60377358490565\n"
     ]
    }
   ],
   "source": [
    "accu2 = accuracy_score(y_test, y_pred2)*100\n",
    "print('The accuracy of the model is:', accu2)"
   ]
  },
  {
   "cell_type": "code",
   "execution_count": 604,
   "metadata": {},
   "outputs": [
    {
     "data": {
      "text/html": [
       "<div>\n",
       "<style scoped>\n",
       "    .dataframe tbody tr th:only-of-type {\n",
       "        vertical-align: middle;\n",
       "    }\n",
       "\n",
       "    .dataframe tbody tr th {\n",
       "        vertical-align: top;\n",
       "    }\n",
       "\n",
       "    .dataframe thead th {\n",
       "        text-align: right;\n",
       "    }\n",
       "</style>\n",
       "<table border=\"1\" class=\"dataframe\">\n",
       "  <thead>\n",
       "    <tr style=\"text-align: right;\">\n",
       "      <th></th>\n",
       "      <th>Predict_N</th>\n",
       "      <th>Predict_Y</th>\n",
       "    </tr>\n",
       "  </thead>\n",
       "  <tbody>\n",
       "    <tr>\n",
       "      <th>Actual_N</th>\n",
       "      <td>34</td>\n",
       "      <td>35</td>\n",
       "    </tr>\n",
       "    <tr>\n",
       "      <th>Actual_Y</th>\n",
       "      <td>4</td>\n",
       "      <td>139</td>\n",
       "    </tr>\n",
       "  </tbody>\n",
       "</table>\n",
       "</div>"
      ],
      "text/plain": [
       "          Predict_N  Predict_Y\n",
       "Actual_N         34         35\n",
       "Actual_Y          4        139"
      ]
     },
     "execution_count": 604,
     "metadata": {},
     "output_type": "execute_result"
    }
   ],
   "source": [
    "cSVM = confusion_matrix(y_test,y_pred2)\n",
    "conf2 = pd.DataFrame(cSVM,columns=['Predict_N', 'Predict_Y'], index=['Actual_N', 'Actual_Y'])\n",
    "conf2"
   ]
  },
  {
   "cell_type": "code",
   "execution_count": 605,
   "metadata": {},
   "outputs": [],
   "source": [
    "tn2, fp2, fn2, tp2 = confusion_matrix(y_test, y_pred2).ravel()"
   ]
  },
  {
   "cell_type": "code",
   "execution_count": 606,
   "metadata": {},
   "outputs": [
    {
     "name": "stdout",
     "output_type": "stream",
     "text": [
      "Precision is: 0.7988505747126436\n",
      "Recall is: 0.972027972027972\n"
     ]
    }
   ],
   "source": [
    "#Precision and Recall\n",
    "p2 = tp2/(tp2 + fp2)\n",
    "r2 = tp2/(tp2 + fn2)\n",
    "\n",
    "print('Precision is:', p2)\n",
    "print('Recall is:', r2)"
   ]
  },
  {
   "cell_type": "code",
   "execution_count": 607,
   "metadata": {},
   "outputs": [
    {
     "name": "stdout",
     "output_type": "stream",
     "text": [
      "The F1 score for SVM is: 0.8769716088328076\n"
     ]
    }
   ],
   "source": [
    "SVM_f1 = f1_score(y_test, y_pred2)\n",
    "print('The F1 score for SVM is:', SVM_f1)"
   ]
  },
  {
   "cell_type": "markdown",
   "metadata": {},
   "source": [
    "## Random Forest Classifier"
   ]
  },
  {
   "cell_type": "code",
   "execution_count": 608,
   "metadata": {},
   "outputs": [],
   "source": [
    "model3 = RandomForestClassifier()\n",
    "model3.fit(x_train, y_train)\n",
    "\n",
    "y_pred3 = model3.predict(x_test)"
   ]
  },
  {
   "cell_type": "code",
   "execution_count": 609,
   "metadata": {},
   "outputs": [
    {
     "name": "stdout",
     "output_type": "stream",
     "text": [
      "The accuracy of the model is: 80.18867924528303\n"
     ]
    }
   ],
   "source": [
    "# Accuracy of the Random Forest model\n",
    "accu3 = accuracy_score(y_test, y_pred3)*100\n",
    "print(\"The accuracy of the model is:\", accu3)"
   ]
  },
  {
   "cell_type": "code",
   "execution_count": 610,
   "metadata": {},
   "outputs": [
    {
     "data": {
      "text/html": [
       "<div>\n",
       "<style scoped>\n",
       "    .dataframe tbody tr th:only-of-type {\n",
       "        vertical-align: middle;\n",
       "    }\n",
       "\n",
       "    .dataframe tbody tr th {\n",
       "        vertical-align: top;\n",
       "    }\n",
       "\n",
       "    .dataframe thead th {\n",
       "        text-align: right;\n",
       "    }\n",
       "</style>\n",
       "<table border=\"1\" class=\"dataframe\">\n",
       "  <thead>\n",
       "    <tr style=\"text-align: right;\">\n",
       "      <th></th>\n",
       "      <th>Predict_N</th>\n",
       "      <th>Predict_Y</th>\n",
       "    </tr>\n",
       "  </thead>\n",
       "  <tbody>\n",
       "    <tr>\n",
       "      <th>Actual_N</th>\n",
       "      <td>38</td>\n",
       "      <td>31</td>\n",
       "    </tr>\n",
       "    <tr>\n",
       "      <th>Actual_Y</th>\n",
       "      <td>11</td>\n",
       "      <td>132</td>\n",
       "    </tr>\n",
       "  </tbody>\n",
       "</table>\n",
       "</div>"
      ],
      "text/plain": [
       "          Predict_N  Predict_Y\n",
       "Actual_N         38         31\n",
       "Actual_Y         11        132"
      ]
     },
     "execution_count": 610,
     "metadata": {},
     "output_type": "execute_result"
    }
   ],
   "source": [
    "cRFC = confusion_matrix(y_test,y_pred3)\n",
    "conf3 = pd.DataFrame(cRFC,columns=['Predict_N', 'Predict_Y'], index=['Actual_N', 'Actual_Y'])\n",
    "conf3"
   ]
  },
  {
   "cell_type": "code",
   "execution_count": 611,
   "metadata": {},
   "outputs": [],
   "source": [
    "tn3, fp3, fn3, tp3 = confusion_matrix(y_test, y_pred3).ravel()"
   ]
  },
  {
   "cell_type": "code",
   "execution_count": 612,
   "metadata": {},
   "outputs": [
    {
     "name": "stdout",
     "output_type": "stream",
     "text": [
      "Precision is: 0.8098159509202454\n",
      "Recall is: 0.9230769230769231\n"
     ]
    }
   ],
   "source": [
    "#Precision and Recall\n",
    "p3 = tp3/(tp3 + fp3)\n",
    "r3 = tp3/(tp3 + fn3)\n",
    "\n",
    "print('Precision is:', p3)\n",
    "print('Recall is:', r3)"
   ]
  },
  {
   "cell_type": "code",
   "execution_count": 613,
   "metadata": {},
   "outputs": [
    {
     "name": "stdout",
     "output_type": "stream",
     "text": [
      "The F1 score for RFC is: 0.8627450980392156\n"
     ]
    }
   ],
   "source": [
    "RFC_f1 = f1_score(y_test, y_pred3)\n",
    "print('The F1 score for RFC is:', RFC_f1)"
   ]
  },
  {
   "cell_type": "markdown",
   "metadata": {},
   "source": [
    "#### Feature Importance"
   ]
  },
  {
   "cell_type": "code",
   "execution_count": 640,
   "metadata": {},
   "outputs": [],
   "source": [
    "features = pd.DataFrame()\n",
    "features['Feature'] = x_train.columns\n",
    "features['Importance'] = model3.feature_importances_\n",
    "features.sort_values(by=['Importance'], ascending=False, inplace=True)\n",
    "features.set_index('Feature', inplace=True)"
   ]
  },
  {
   "cell_type": "code",
   "execution_count": 641,
   "metadata": {},
   "outputs": [
    {
     "data": {
      "text/plain": [
       "<matplotlib.axes._subplots.AxesSubplot at 0x7f0c7d5346d8>"
      ]
     },
     "execution_count": 641,
     "metadata": {},
     "output_type": "execute_result"
    },
    {
     "data": {
      "image/png": "[encoded data removed]",
      "text/plain": [
       "<Figure size 1440x720 with 1 Axes>"
      ]
     },
     "metadata": {
      "needs_background": "light"
     },
     "output_type": "display_data"
    }
   ],
   "source": [
    "features.plot(kind='bar', figsize=(20, 10))"
   ]
  },
  {
   "cell_type": "markdown",
   "metadata": {},
   "source": [
    "## ANN"
   ]
  },
  {
   "cell_type": "code",
   "execution_count": 638,
   "metadata": {},
   "outputs": [],
   "source": [
    "model4 = Sequential()\n",
    "model4.add(Dense(units=40, activation='relu', input_dim=10))\n",
    "model4.add(Dense(units=40, activation='relu'))\n",
    "model4.add(Dense(units=2, activation='softmax'))"
   ]
  },
  {
   "cell_type": "code",
   "execution_count": 615,
   "metadata": {},
   "outputs": [],
   "source": [
    "X1_scaler = StandardScaler().fit(x_train)\n",
    "X1_train_scaled = X1_scaler.transform(x_train)\n",
    "X1_test_scaled = X1_scaler.transform(x_test)"
   ]
  },
  {
   "cell_type": "code",
   "execution_count": 616,
   "metadata": {},
   "outputs": [],
   "source": [
    "label1_encoder = LabelEncoder()\n",
    "label1_encoder.fit(y1_train)\n",
    "y1_train = label1_encoder.transform(y_train)\n",
    "y1_test = label1_encoder.transform(y_test)\n",
    "\n",
    "# Convert encoded labels to one-hot-encoding\n",
    "y1_train_categorical = to_categorical(y1_train)\n",
    "y1_test_categorical = to_categorical(y1_test)"
   ]
  },
  {
   "cell_type": "code",
   "execution_count": 617,
   "metadata": {},
   "outputs": [
    {
     "name": "stdout",
     "output_type": "stream",
     "text": [
      "Train on 317 samples, validate on 212 samples\n",
      "Epoch 1/200\n",
      " - 0s - loss: 0.8813 - accuracy: 0.3533 - val_loss: 0.7923 - val_accuracy: 0.4528\n",
      "Epoch 2/200\n",
      " - 0s - loss: 0.7680 - accuracy: 0.4196 - val_loss: 0.7232 - val_accuracy: 0.4387\n",
      "Epoch 3/200\n",
      " - 0s - loss: 0.7020 - accuracy: 0.5047 - val_loss: 0.6837 - val_accuracy: 0.5236\n",
      "Epoch 4/200\n",
      " - 0s - loss: 0.6617 - accuracy: 0.5899 - val_loss: 0.6601 - val_accuracy: 0.6085\n",
      "Epoch 5/200\n",
      " - 0s - loss: 0.6362 - accuracy: 0.6656 - val_loss: 0.6449 - val_accuracy: 0.6557\n",
      "Epoch 6/200\n",
      " - 0s - loss: 0.6185 - accuracy: 0.6940 - val_loss: 0.6348 - val_accuracy: 0.6745\n",
      "Epoch 7/200\n",
      " - 0s - loss: 0.6053 - accuracy: 0.7066 - val_loss: 0.6271 - val_accuracy: 0.6887\n",
      "Epoch 8/200\n",
      " - 0s - loss: 0.5948 - accuracy: 0.7129 - val_loss: 0.6209 - val_accuracy: 0.6887\n",
      "Epoch 9/200\n",
      " - 0s - loss: 0.5868 - accuracy: 0.7161 - val_loss: 0.6156 - val_accuracy: 0.6887\n",
      "Epoch 10/200\n",
      " - 0s - loss: 0.5786 - accuracy: 0.7192 - val_loss: 0.6107 - val_accuracy: 0.6887\n",
      "Epoch 11/200\n",
      " - 0s - loss: 0.5719 - accuracy: 0.7224 - val_loss: 0.6063 - val_accuracy: 0.6934\n",
      "Epoch 12/200\n",
      " - 0s - loss: 0.5661 - accuracy: 0.7256 - val_loss: 0.6019 - val_accuracy: 0.7028\n",
      "Epoch 13/200\n",
      " - 0s - loss: 0.5601 - accuracy: 0.7382 - val_loss: 0.5978 - val_accuracy: 0.7028\n",
      "Epoch 14/200\n",
      " - 0s - loss: 0.5547 - accuracy: 0.7413 - val_loss: 0.5938 - val_accuracy: 0.7123\n",
      "Epoch 15/200\n",
      " - 0s - loss: 0.5490 - accuracy: 0.7476 - val_loss: 0.5899 - val_accuracy: 0.7217\n",
      "Epoch 16/200\n",
      " - 0s - loss: 0.5440 - accuracy: 0.7508 - val_loss: 0.5861 - val_accuracy: 0.7264\n",
      "Epoch 17/200\n",
      " - 0s - loss: 0.5392 - accuracy: 0.7508 - val_loss: 0.5825 - val_accuracy: 0.7358\n",
      "Epoch 18/200\n",
      " - 0s - loss: 0.5344 - accuracy: 0.7603 - val_loss: 0.5789 - val_accuracy: 0.7500\n",
      "Epoch 19/200\n",
      " - 0s - loss: 0.5297 - accuracy: 0.7697 - val_loss: 0.5755 - val_accuracy: 0.7594\n",
      "Epoch 20/200\n",
      " - 0s - loss: 0.5252 - accuracy: 0.7855 - val_loss: 0.5722 - val_accuracy: 0.7547\n",
      "Epoch 21/200\n",
      " - 0s - loss: 0.5210 - accuracy: 0.7886 - val_loss: 0.5689 - val_accuracy: 0.7547\n",
      "Epoch 22/200\n",
      " - 0s - loss: 0.5165 - accuracy: 0.7981 - val_loss: 0.5659 - val_accuracy: 0.7547\n",
      "Epoch 23/200\n",
      " - 0s - loss: 0.5129 - accuracy: 0.7981 - val_loss: 0.5629 - val_accuracy: 0.7547\n",
      "Epoch 24/200\n",
      " - 0s - loss: 0.5084 - accuracy: 0.7981 - val_loss: 0.5600 - val_accuracy: 0.7689\n",
      "Epoch 25/200\n",
      " - 0s - loss: 0.5046 - accuracy: 0.8044 - val_loss: 0.5573 - val_accuracy: 0.7783\n",
      "Epoch 26/200\n",
      " - 0s - loss: 0.5012 - accuracy: 0.8076 - val_loss: 0.5546 - val_accuracy: 0.7783\n",
      "Epoch 27/200\n",
      " - 0s - loss: 0.4975 - accuracy: 0.8139 - val_loss: 0.5522 - val_accuracy: 0.7830\n",
      "Epoch 28/200\n",
      " - 0s - loss: 0.4942 - accuracy: 0.8170 - val_loss: 0.5499 - val_accuracy: 0.7830\n",
      "Epoch 29/200\n",
      " - 0s - loss: 0.4909 - accuracy: 0.8107 - val_loss: 0.5476 - val_accuracy: 0.7830\n",
      "Epoch 30/200\n",
      " - 0s - loss: 0.4877 - accuracy: 0.8139 - val_loss: 0.5452 - val_accuracy: 0.7830\n",
      "Epoch 31/200\n",
      " - 0s - loss: 0.4848 - accuracy: 0.8139 - val_loss: 0.5430 - val_accuracy: 0.7830\n",
      "Epoch 32/200\n",
      " - 0s - loss: 0.4820 - accuracy: 0.8139 - val_loss: 0.5410 - val_accuracy: 0.7925\n",
      "Epoch 33/200\n",
      " - 0s - loss: 0.4794 - accuracy: 0.8107 - val_loss: 0.5391 - val_accuracy: 0.7925\n",
      "Epoch 34/200\n",
      " - 0s - loss: 0.4768 - accuracy: 0.8139 - val_loss: 0.5373 - val_accuracy: 0.7925\n",
      "Epoch 35/200\n",
      " - 0s - loss: 0.4746 - accuracy: 0.8107 - val_loss: 0.5357 - val_accuracy: 0.7925\n",
      "Epoch 36/200\n",
      " - 0s - loss: 0.4724 - accuracy: 0.8139 - val_loss: 0.5342 - val_accuracy: 0.7925\n",
      "Epoch 37/200\n",
      " - 0s - loss: 0.4704 - accuracy: 0.8170 - val_loss: 0.5327 - val_accuracy: 0.7925\n",
      "Epoch 38/200\n",
      " - 0s - loss: 0.4682 - accuracy: 0.8170 - val_loss: 0.5314 - val_accuracy: 0.7925\n",
      "Epoch 39/200\n",
      " - 0s - loss: 0.4663 - accuracy: 0.8139 - val_loss: 0.5301 - val_accuracy: 0.7972\n",
      "Epoch 40/200\n",
      " - 0s - loss: 0.4643 - accuracy: 0.8139 - val_loss: 0.5290 - val_accuracy: 0.8019\n",
      "Epoch 41/200\n",
      " - 0s - loss: 0.4625 - accuracy: 0.8139 - val_loss: 0.5279 - val_accuracy: 0.8019\n",
      "Epoch 42/200\n",
      " - 0s - loss: 0.4615 - accuracy: 0.8139 - val_loss: 0.5270 - val_accuracy: 0.8019\n",
      "Epoch 43/200\n",
      " - 0s - loss: 0.4594 - accuracy: 0.8139 - val_loss: 0.5260 - val_accuracy: 0.8019\n",
      "Epoch 44/200\n",
      " - 0s - loss: 0.4580 - accuracy: 0.8139 - val_loss: 0.5252 - val_accuracy: 0.8019\n",
      "Epoch 45/200\n",
      " - 0s - loss: 0.4562 - accuracy: 0.8139 - val_loss: 0.5244 - val_accuracy: 0.8019\n",
      "Epoch 46/200\n",
      " - 0s - loss: 0.4553 - accuracy: 0.8139 - val_loss: 0.5236 - val_accuracy: 0.8019\n",
      "Epoch 47/200\n",
      " - 0s - loss: 0.4536 - accuracy: 0.8170 - val_loss: 0.5229 - val_accuracy: 0.8019\n",
      "Epoch 48/200\n",
      " - 0s - loss: 0.4522 - accuracy: 0.8139 - val_loss: 0.5223 - val_accuracy: 0.8019\n",
      "Epoch 49/200\n",
      " - 0s - loss: 0.4510 - accuracy: 0.8170 - val_loss: 0.5217 - val_accuracy: 0.8019\n",
      "Epoch 50/200\n",
      " - 0s - loss: 0.4501 - accuracy: 0.8170 - val_loss: 0.5212 - val_accuracy: 0.8019\n",
      "Epoch 51/200\n",
      " - 0s - loss: 0.4490 - accuracy: 0.8170 - val_loss: 0.5206 - val_accuracy: 0.8019\n",
      "Epoch 52/200\n",
      " - 0s - loss: 0.4474 - accuracy: 0.8170 - val_loss: 0.5201 - val_accuracy: 0.8019\n",
      "Epoch 53/200\n",
      " - 0s - loss: 0.4467 - accuracy: 0.8202 - val_loss: 0.5197 - val_accuracy: 0.8019\n",
      "Epoch 54/200\n",
      " - 0s - loss: 0.4455 - accuracy: 0.8170 - val_loss: 0.5193 - val_accuracy: 0.8019\n",
      "Epoch 55/200\n",
      " - 0s - loss: 0.4445 - accuracy: 0.8170 - val_loss: 0.5190 - val_accuracy: 0.8019\n",
      "Epoch 56/200\n",
      " - 0s - loss: 0.4436 - accuracy: 0.8170 - val_loss: 0.5186 - val_accuracy: 0.8019\n",
      "Epoch 57/200\n",
      " - 0s - loss: 0.4429 - accuracy: 0.8170 - val_loss: 0.5183 - val_accuracy: 0.8019\n",
      "Epoch 58/200\n",
      " - 0s - loss: 0.4418 - accuracy: 0.8170 - val_loss: 0.5180 - val_accuracy: 0.8019\n",
      "Epoch 59/200\n",
      " - 0s - loss: 0.4408 - accuracy: 0.8170 - val_loss: 0.5177 - val_accuracy: 0.8019\n",
      "Epoch 60/200\n",
      " - 0s - loss: 0.4403 - accuracy: 0.8170 - val_loss: 0.5175 - val_accuracy: 0.8066\n",
      "Epoch 61/200\n",
      " - 0s - loss: 0.4393 - accuracy: 0.8170 - val_loss: 0.5172 - val_accuracy: 0.8066\n",
      "Epoch 62/200\n",
      " - 0s - loss: 0.4382 - accuracy: 0.8170 - val_loss: 0.5170 - val_accuracy: 0.8066\n",
      "Epoch 63/200\n",
      " - 0s - loss: 0.4375 - accuracy: 0.8170 - val_loss: 0.5168 - val_accuracy: 0.8066\n",
      "Epoch 64/200\n",
      " - 0s - loss: 0.4367 - accuracy: 0.8170 - val_loss: 0.5167 - val_accuracy: 0.8066\n",
      "Epoch 65/200\n",
      " - 0s - loss: 0.4360 - accuracy: 0.8170 - val_loss: 0.5164 - val_accuracy: 0.8066\n",
      "Epoch 66/200\n",
      " - 0s - loss: 0.4350 - accuracy: 0.8170 - val_loss: 0.5163 - val_accuracy: 0.8066\n",
      "Epoch 67/200\n",
      " - 0s - loss: 0.4344 - accuracy: 0.8170 - val_loss: 0.5162 - val_accuracy: 0.8066\n",
      "Epoch 68/200\n",
      " - 0s - loss: 0.4340 - accuracy: 0.8170 - val_loss: 0.5161 - val_accuracy: 0.8066\n",
      "Epoch 69/200\n",
      " - 0s - loss: 0.4334 - accuracy: 0.8170 - val_loss: 0.5160 - val_accuracy: 0.8066\n",
      "Epoch 70/200\n",
      " - 0s - loss: 0.4327 - accuracy: 0.8170 - val_loss: 0.5160 - val_accuracy: 0.8066\n",
      "Epoch 71/200\n",
      " - 0s - loss: 0.4319 - accuracy: 0.8170 - val_loss: 0.5160 - val_accuracy: 0.8066\n",
      "Epoch 72/200\n",
      " - 0s - loss: 0.4317 - accuracy: 0.8170 - val_loss: 0.5159 - val_accuracy: 0.8066\n",
      "Epoch 73/200\n",
      " - 0s - loss: 0.4305 - accuracy: 0.8170 - val_loss: 0.5159 - val_accuracy: 0.8066\n",
      "Epoch 74/200\n",
      " - 0s - loss: 0.4299 - accuracy: 0.8170 - val_loss: 0.5159 - val_accuracy: 0.8066\n",
      "Epoch 75/200\n",
      " - 0s - loss: 0.4295 - accuracy: 0.8202 - val_loss: 0.5159 - val_accuracy: 0.8066\n",
      "Epoch 76/200\n",
      " - 0s - loss: 0.4286 - accuracy: 0.8170 - val_loss: 0.5158 - val_accuracy: 0.8066\n",
      "Epoch 77/200\n",
      " - 0s - loss: 0.4280 - accuracy: 0.8170 - val_loss: 0.5158 - val_accuracy: 0.8066\n",
      "Epoch 78/200\n",
      " - 0s - loss: 0.4276 - accuracy: 0.8170 - val_loss: 0.5157 - val_accuracy: 0.8066\n",
      "Epoch 79/200\n",
      " - 0s - loss: 0.4269 - accuracy: 0.8170 - val_loss: 0.5157 - val_accuracy: 0.8066\n",
      "Epoch 80/200\n",
      " - 0s - loss: 0.4269 - accuracy: 0.8170 - val_loss: 0.5158 - val_accuracy: 0.8066\n",
      "Epoch 81/200\n",
      " - 0s - loss: 0.4262 - accuracy: 0.8170 - val_loss: 0.5158 - val_accuracy: 0.8066\n",
      "Epoch 82/200\n",
      " - 0s - loss: 0.4255 - accuracy: 0.8170 - val_loss: 0.5158 - val_accuracy: 0.8066\n",
      "Epoch 83/200\n",
      " - 0s - loss: 0.4252 - accuracy: 0.8170 - val_loss: 0.5158 - val_accuracy: 0.8066\n",
      "Epoch 84/200\n",
      " - 0s - loss: 0.4242 - accuracy: 0.8170 - val_loss: 0.5158 - val_accuracy: 0.8066\n",
      "Epoch 85/200\n",
      " - 0s - loss: 0.4236 - accuracy: 0.8170 - val_loss: 0.5158 - val_accuracy: 0.8066\n",
      "Epoch 86/200\n",
      " - 0s - loss: 0.4233 - accuracy: 0.8170 - val_loss: 0.5158 - val_accuracy: 0.8066\n"
     ]
    },
    {
     "name": "stdout",
     "output_type": "stream",
     "text": [
      "Epoch 87/200\n",
      " - 0s - loss: 0.4229 - accuracy: 0.8170 - val_loss: 0.5158 - val_accuracy: 0.8066\n",
      "Epoch 88/200\n",
      " - 0s - loss: 0.4222 - accuracy: 0.8170 - val_loss: 0.5159 - val_accuracy: 0.8066\n",
      "Epoch 89/200\n",
      " - 0s - loss: 0.4215 - accuracy: 0.8202 - val_loss: 0.5159 - val_accuracy: 0.8066\n",
      "Epoch 90/200\n",
      " - 0s - loss: 0.4210 - accuracy: 0.8170 - val_loss: 0.5160 - val_accuracy: 0.8066\n",
      "Epoch 91/200\n",
      " - 0s - loss: 0.4209 - accuracy: 0.8170 - val_loss: 0.5160 - val_accuracy: 0.8066\n",
      "Epoch 92/200\n",
      " - 0s - loss: 0.4203 - accuracy: 0.8170 - val_loss: 0.5161 - val_accuracy: 0.8066\n",
      "Epoch 93/200\n",
      " - 0s - loss: 0.4195 - accuracy: 0.8170 - val_loss: 0.5162 - val_accuracy: 0.8066\n",
      "Epoch 94/200\n",
      " - 0s - loss: 0.4193 - accuracy: 0.8170 - val_loss: 0.5162 - val_accuracy: 0.8066\n",
      "Epoch 95/200\n",
      " - 0s - loss: 0.4186 - accuracy: 0.8170 - val_loss: 0.5164 - val_accuracy: 0.8066\n",
      "Epoch 96/200\n",
      " - 0s - loss: 0.4181 - accuracy: 0.8170 - val_loss: 0.5164 - val_accuracy: 0.8066\n",
      "Epoch 97/200\n",
      " - 0s - loss: 0.4178 - accuracy: 0.8202 - val_loss: 0.5165 - val_accuracy: 0.8066\n",
      "Epoch 98/200\n",
      " - 0s - loss: 0.4172 - accuracy: 0.8170 - val_loss: 0.5166 - val_accuracy: 0.8066\n",
      "Epoch 99/200\n",
      " - 0s - loss: 0.4172 - accuracy: 0.8233 - val_loss: 0.5166 - val_accuracy: 0.8066\n",
      "Epoch 100/200\n",
      " - 0s - loss: 0.4162 - accuracy: 0.8233 - val_loss: 0.5167 - val_accuracy: 0.8066\n",
      "Epoch 101/200\n",
      " - 0s - loss: 0.4160 - accuracy: 0.8233 - val_loss: 0.5168 - val_accuracy: 0.8066\n",
      "Epoch 102/200\n",
      " - 0s - loss: 0.4156 - accuracy: 0.8328 - val_loss: 0.5168 - val_accuracy: 0.8066\n",
      "Epoch 103/200\n",
      " - 0s - loss: 0.4149 - accuracy: 0.8297 - val_loss: 0.5169 - val_accuracy: 0.8066\n",
      "Epoch 104/200\n",
      " - 0s - loss: 0.4146 - accuracy: 0.8297 - val_loss: 0.5170 - val_accuracy: 0.8066\n",
      "Epoch 105/200\n",
      " - 0s - loss: 0.4143 - accuracy: 0.8328 - val_loss: 0.5171 - val_accuracy: 0.8066\n",
      "Epoch 106/200\n",
      " - 0s - loss: 0.4136 - accuracy: 0.8297 - val_loss: 0.5172 - val_accuracy: 0.8113\n",
      "Epoch 107/200\n",
      " - 0s - loss: 0.4133 - accuracy: 0.8265 - val_loss: 0.5173 - val_accuracy: 0.8113\n",
      "Epoch 108/200\n",
      " - 0s - loss: 0.4131 - accuracy: 0.8328 - val_loss: 0.5173 - val_accuracy: 0.8113\n",
      "Epoch 109/200\n",
      " - 0s - loss: 0.4126 - accuracy: 0.8328 - val_loss: 0.5175 - val_accuracy: 0.8113\n",
      "Epoch 110/200\n",
      " - 0s - loss: 0.4123 - accuracy: 0.8360 - val_loss: 0.5175 - val_accuracy: 0.8113\n",
      "Epoch 111/200\n",
      " - 0s - loss: 0.4119 - accuracy: 0.8328 - val_loss: 0.5176 - val_accuracy: 0.8113\n",
      "Epoch 112/200\n",
      " - 0s - loss: 0.4113 - accuracy: 0.8297 - val_loss: 0.5177 - val_accuracy: 0.8113\n",
      "Epoch 113/200\n",
      " - 0s - loss: 0.4111 - accuracy: 0.8360 - val_loss: 0.5178 - val_accuracy: 0.8113\n",
      "Epoch 114/200\n",
      " - 0s - loss: 0.4104 - accuracy: 0.8360 - val_loss: 0.5178 - val_accuracy: 0.8113\n",
      "Epoch 115/200\n",
      " - 0s - loss: 0.4100 - accuracy: 0.8328 - val_loss: 0.5179 - val_accuracy: 0.8113\n",
      "Epoch 116/200\n",
      " - 0s - loss: 0.4098 - accuracy: 0.8360 - val_loss: 0.5180 - val_accuracy: 0.8113\n",
      "Epoch 117/200\n",
      " - 0s - loss: 0.4089 - accuracy: 0.8360 - val_loss: 0.5181 - val_accuracy: 0.8113\n",
      "Epoch 118/200\n",
      " - 0s - loss: 0.4086 - accuracy: 0.8360 - val_loss: 0.5181 - val_accuracy: 0.8113\n",
      "Epoch 119/200\n",
      " - 0s - loss: 0.4088 - accuracy: 0.8360 - val_loss: 0.5181 - val_accuracy: 0.8113\n",
      "Epoch 120/200\n",
      " - 0s - loss: 0.4079 - accuracy: 0.8360 - val_loss: 0.5182 - val_accuracy: 0.8113\n",
      "Epoch 121/200\n",
      " - 0s - loss: 0.4074 - accuracy: 0.8328 - val_loss: 0.5183 - val_accuracy: 0.8113\n",
      "Epoch 122/200\n",
      " - 0s - loss: 0.4071 - accuracy: 0.8328 - val_loss: 0.5184 - val_accuracy: 0.8113\n",
      "Epoch 123/200\n",
      " - 0s - loss: 0.4074 - accuracy: 0.8328 - val_loss: 0.5185 - val_accuracy: 0.8113\n",
      "Epoch 124/200\n",
      " - 0s - loss: 0.4066 - accuracy: 0.8360 - val_loss: 0.5186 - val_accuracy: 0.8113\n",
      "Epoch 125/200\n",
      " - 0s - loss: 0.4060 - accuracy: 0.8328 - val_loss: 0.5187 - val_accuracy: 0.8113\n",
      "Epoch 126/200\n",
      " - 0s - loss: 0.4058 - accuracy: 0.8328 - val_loss: 0.5188 - val_accuracy: 0.8113\n",
      "Epoch 127/200\n",
      " - 0s - loss: 0.4055 - accuracy: 0.8360 - val_loss: 0.5189 - val_accuracy: 0.8113\n",
      "Epoch 128/200\n",
      " - 0s - loss: 0.4045 - accuracy: 0.8328 - val_loss: 0.5190 - val_accuracy: 0.8113\n",
      "Epoch 129/200\n",
      " - 0s - loss: 0.4045 - accuracy: 0.8328 - val_loss: 0.5191 - val_accuracy: 0.8113\n",
      "Epoch 130/200\n",
      " - 0s - loss: 0.4041 - accuracy: 0.8391 - val_loss: 0.5192 - val_accuracy: 0.8113\n",
      "Epoch 131/200\n",
      " - 0s - loss: 0.4037 - accuracy: 0.8360 - val_loss: 0.5193 - val_accuracy: 0.8113\n",
      "Epoch 132/200\n",
      " - 0s - loss: 0.4034 - accuracy: 0.8360 - val_loss: 0.5194 - val_accuracy: 0.8113\n",
      "Epoch 133/200\n",
      " - 0s - loss: 0.4030 - accuracy: 0.8328 - val_loss: 0.5195 - val_accuracy: 0.8113\n",
      "Epoch 134/200\n",
      " - 0s - loss: 0.4028 - accuracy: 0.8328 - val_loss: 0.5195 - val_accuracy: 0.8113\n",
      "Epoch 135/200\n",
      " - 0s - loss: 0.4023 - accuracy: 0.8360 - val_loss: 0.5195 - val_accuracy: 0.8113\n",
      "Epoch 136/200\n",
      " - 0s - loss: 0.4015 - accuracy: 0.8391 - val_loss: 0.5195 - val_accuracy: 0.8113\n",
      "Epoch 137/200\n",
      " - 0s - loss: 0.4012 - accuracy: 0.8391 - val_loss: 0.5196 - val_accuracy: 0.8113\n",
      "Epoch 138/200\n",
      " - 0s - loss: 0.4007 - accuracy: 0.8391 - val_loss: 0.5198 - val_accuracy: 0.8113\n",
      "Epoch 139/200\n",
      " - 0s - loss: 0.4008 - accuracy: 0.8328 - val_loss: 0.5198 - val_accuracy: 0.8113\n",
      "Epoch 140/200\n",
      " - 0s - loss: 0.3998 - accuracy: 0.8391 - val_loss: 0.5199 - val_accuracy: 0.8113\n",
      "Epoch 141/200\n",
      " - 0s - loss: 0.3995 - accuracy: 0.8391 - val_loss: 0.5200 - val_accuracy: 0.8113\n",
      "Epoch 142/200\n",
      " - 0s - loss: 0.3991 - accuracy: 0.8360 - val_loss: 0.5200 - val_accuracy: 0.8113\n",
      "Epoch 143/200\n",
      " - 0s - loss: 0.3994 - accuracy: 0.8423 - val_loss: 0.5201 - val_accuracy: 0.8113\n",
      "Epoch 144/200\n",
      " - 0s - loss: 0.3985 - accuracy: 0.8360 - val_loss: 0.5202 - val_accuracy: 0.8113\n",
      "Epoch 145/200\n",
      " - 0s - loss: 0.3981 - accuracy: 0.8391 - val_loss: 0.5203 - val_accuracy: 0.8113\n",
      "Epoch 146/200\n",
      " - 0s - loss: 0.3979 - accuracy: 0.8360 - val_loss: 0.5204 - val_accuracy: 0.8113\n",
      "Epoch 147/200\n",
      " - 0s - loss: 0.3977 - accuracy: 0.8423 - val_loss: 0.5205 - val_accuracy: 0.8113\n",
      "Epoch 148/200\n",
      " - 0s - loss: 0.3972 - accuracy: 0.8391 - val_loss: 0.5205 - val_accuracy: 0.8113\n",
      "Epoch 149/200\n",
      " - 0s - loss: 0.3967 - accuracy: 0.8360 - val_loss: 0.5206 - val_accuracy: 0.8113\n",
      "Epoch 150/200\n",
      " - 0s - loss: 0.3966 - accuracy: 0.8423 - val_loss: 0.5208 - val_accuracy: 0.8113\n",
      "Epoch 151/200\n",
      " - 0s - loss: 0.3961 - accuracy: 0.8423 - val_loss: 0.5208 - val_accuracy: 0.8113\n",
      "Epoch 152/200\n",
      " - 0s - loss: 0.3956 - accuracy: 0.8391 - val_loss: 0.5209 - val_accuracy: 0.8113\n",
      "Epoch 153/200\n",
      " - 0s - loss: 0.3953 - accuracy: 0.8423 - val_loss: 0.5211 - val_accuracy: 0.8113\n",
      "Epoch 154/200\n",
      " - 0s - loss: 0.3948 - accuracy: 0.8423 - val_loss: 0.5211 - val_accuracy: 0.8113\n",
      "Epoch 155/200\n",
      " - 0s - loss: 0.3948 - accuracy: 0.8391 - val_loss: 0.5211 - val_accuracy: 0.8113\n",
      "Epoch 156/200\n",
      " - 0s - loss: 0.3943 - accuracy: 0.8423 - val_loss: 0.5212 - val_accuracy: 0.8113\n",
      "Epoch 157/200\n",
      " - 0s - loss: 0.3936 - accuracy: 0.8423 - val_loss: 0.5213 - val_accuracy: 0.8113\n",
      "Epoch 158/200\n",
      " - 0s - loss: 0.3937 - accuracy: 0.8423 - val_loss: 0.5213 - val_accuracy: 0.8113\n",
      "Epoch 159/200\n",
      " - 0s - loss: 0.3931 - accuracy: 0.8423 - val_loss: 0.5214 - val_accuracy: 0.8113\n",
      "Epoch 160/200\n",
      " - 0s - loss: 0.3929 - accuracy: 0.8423 - val_loss: 0.5216 - val_accuracy: 0.8113\n",
      "Epoch 161/200\n",
      " - 0s - loss: 0.3928 - accuracy: 0.8486 - val_loss: 0.5217 - val_accuracy: 0.8113\n",
      "Epoch 162/200\n",
      " - 0s - loss: 0.3923 - accuracy: 0.8423 - val_loss: 0.5217 - val_accuracy: 0.8113\n",
      "Epoch 163/200\n",
      " - 0s - loss: 0.3918 - accuracy: 0.8454 - val_loss: 0.5216 - val_accuracy: 0.8113\n",
      "Epoch 164/200\n",
      " - 0s - loss: 0.3917 - accuracy: 0.8454 - val_loss: 0.5217 - val_accuracy: 0.8113\n",
      "Epoch 165/200\n",
      " - 0s - loss: 0.3911 - accuracy: 0.8486 - val_loss: 0.5217 - val_accuracy: 0.8113\n",
      "Epoch 166/200\n",
      " - 0s - loss: 0.3912 - accuracy: 0.8454 - val_loss: 0.5219 - val_accuracy: 0.8113\n",
      "Epoch 167/200\n",
      " - 0s - loss: 0.3905 - accuracy: 0.8454 - val_loss: 0.5220 - val_accuracy: 0.8113\n",
      "Epoch 168/200\n",
      " - 0s - loss: 0.3904 - accuracy: 0.8486 - val_loss: 0.5220 - val_accuracy: 0.8066\n",
      "Epoch 169/200\n",
      " - 0s - loss: 0.3902 - accuracy: 0.8486 - val_loss: 0.5220 - val_accuracy: 0.8113\n",
      "Epoch 170/200\n",
      " - 0s - loss: 0.3898 - accuracy: 0.8486 - val_loss: 0.5221 - val_accuracy: 0.8066\n",
      "Epoch 171/200\n",
      " - 0s - loss: 0.3897 - accuracy: 0.8486 - val_loss: 0.5221 - val_accuracy: 0.8066\n",
      "Epoch 172/200\n",
      " - 0s - loss: 0.3891 - accuracy: 0.8486 - val_loss: 0.5223 - val_accuracy: 0.8113\n"
     ]
    },
    {
     "name": "stdout",
     "output_type": "stream",
     "text": [
      "Epoch 173/200\n",
      " - 0s - loss: 0.3888 - accuracy: 0.8486 - val_loss: 0.5224 - val_accuracy: 0.8113\n",
      "Epoch 174/200\n",
      " - 0s - loss: 0.3888 - accuracy: 0.8486 - val_loss: 0.5223 - val_accuracy: 0.8066\n",
      "Epoch 175/200\n",
      " - 0s - loss: 0.3882 - accuracy: 0.8486 - val_loss: 0.5224 - val_accuracy: 0.8066\n",
      "Epoch 176/200\n",
      " - 0s - loss: 0.3883 - accuracy: 0.8486 - val_loss: 0.5225 - val_accuracy: 0.8066\n",
      "Epoch 177/200\n",
      " - 0s - loss: 0.3878 - accuracy: 0.8486 - val_loss: 0.5226 - val_accuracy: 0.8066\n",
      "Epoch 178/200\n",
      " - 0s - loss: 0.3872 - accuracy: 0.8486 - val_loss: 0.5226 - val_accuracy: 0.8066\n",
      "Epoch 179/200\n",
      " - 0s - loss: 0.3871 - accuracy: 0.8486 - val_loss: 0.5228 - val_accuracy: 0.8066\n",
      "Epoch 180/200\n",
      " - 0s - loss: 0.3869 - accuracy: 0.8486 - val_loss: 0.5228 - val_accuracy: 0.8066\n",
      "Epoch 181/200\n",
      " - 0s - loss: 0.3863 - accuracy: 0.8486 - val_loss: 0.5229 - val_accuracy: 0.8066\n",
      "Epoch 182/200\n",
      " - 0s - loss: 0.3860 - accuracy: 0.8486 - val_loss: 0.5230 - val_accuracy: 0.8066\n",
      "Epoch 183/200\n",
      " - 0s - loss: 0.3860 - accuracy: 0.8486 - val_loss: 0.5230 - val_accuracy: 0.8066\n",
      "Epoch 184/200\n",
      " - 0s - loss: 0.3855 - accuracy: 0.8486 - val_loss: 0.5229 - val_accuracy: 0.8066\n",
      "Epoch 185/200\n",
      " - 0s - loss: 0.3853 - accuracy: 0.8486 - val_loss: 0.5230 - val_accuracy: 0.8066\n",
      "Epoch 186/200\n",
      " - 0s - loss: 0.3854 - accuracy: 0.8486 - val_loss: 0.5232 - val_accuracy: 0.8066\n",
      "Epoch 187/200\n",
      " - 0s - loss: 0.3845 - accuracy: 0.8486 - val_loss: 0.5233 - val_accuracy: 0.8066\n",
      "Epoch 188/200\n",
      " - 0s - loss: 0.3848 - accuracy: 0.8486 - val_loss: 0.5234 - val_accuracy: 0.8066\n",
      "Epoch 189/200\n",
      " - 0s - loss: 0.3843 - accuracy: 0.8486 - val_loss: 0.5235 - val_accuracy: 0.8066\n",
      "Epoch 190/200\n",
      " - 0s - loss: 0.3838 - accuracy: 0.8486 - val_loss: 0.5236 - val_accuracy: 0.8066\n",
      "Epoch 191/200\n",
      " - 0s - loss: 0.3834 - accuracy: 0.8486 - val_loss: 0.5236 - val_accuracy: 0.8066\n",
      "Epoch 192/200\n",
      " - 0s - loss: 0.3834 - accuracy: 0.8486 - val_loss: 0.5237 - val_accuracy: 0.8066\n",
      "Epoch 193/200\n",
      " - 0s - loss: 0.3829 - accuracy: 0.8486 - val_loss: 0.5235 - val_accuracy: 0.8066\n",
      "Epoch 194/200\n",
      " - 0s - loss: 0.3825 - accuracy: 0.8486 - val_loss: 0.5236 - val_accuracy: 0.8113\n",
      "Epoch 195/200\n",
      " - 0s - loss: 0.3824 - accuracy: 0.8486 - val_loss: 0.5237 - val_accuracy: 0.8066\n",
      "Epoch 196/200\n",
      " - 0s - loss: 0.3824 - accuracy: 0.8454 - val_loss: 0.5239 - val_accuracy: 0.8113\n",
      "Epoch 197/200\n",
      " - 0s - loss: 0.3816 - accuracy: 0.8486 - val_loss: 0.5240 - val_accuracy: 0.8113\n",
      "Epoch 198/200\n",
      " - 0s - loss: 0.3818 - accuracy: 0.8486 - val_loss: 0.5242 - val_accuracy: 0.8113\n",
      "Epoch 199/200\n",
      " - 0s - loss: 0.3816 - accuracy: 0.8517 - val_loss: 0.5243 - val_accuracy: 0.8113\n",
      "Epoch 200/200\n",
      " - 0s - loss: 0.3807 - accuracy: 0.8454 - val_loss: 0.5244 - val_accuracy: 0.8113\n",
      "dict_keys(['val_loss', 'val_accuracy', 'loss', 'accuracy'])\n"
     ]
    },
    {
     "data": {
      "image/png": "[encoded data removed]",
      "text/plain": [
       "<Figure size 432x288 with 1 Axes>"
      ]
     },
     "metadata": {
      "needs_background": "light"
     },
     "output_type": "display_data"
    },
    {
     "data": {
      "image/png": "[encoded data removed]",
      "text/plain": [
       "<Figure size 432x288 with 1 Axes>"
      ]
     },
     "metadata": {
      "needs_background": "light"
     },
     "output_type": "display_data"
    }
   ],
   "source": [
    "model4.compile(optimizer='SGD', \n",
    "              loss='binary_crossentropy', \n",
    "              metrics=['accuracy'])\n",
    "history = model4.fit(\n",
    "    X1_train_scaled,\n",
    "    y1_train_categorical,\n",
    "    epochs=200,\n",
    "    shuffle=True,\n",
    "    verbose=2,validation_data=(X1_test_scaled,y1_test_categorical))\n",
    "\t\n",
    "import matplotlib.pyplot as plt\n",
    "model4.metrics_names\n",
    "print(history.history.keys())\n",
    "#  \"Accuracy\" plot\n",
    "plt.plot(history.history['accuracy'])\n",
    "plt.plot(history.history['val_accuracy'])\n",
    "plt.title('model accuracy')\n",
    "plt.ylabel('accuracy')\n",
    "plt.xlabel('epoch')\n",
    "plt.legend(['train','test'], loc='upper left')\n",
    "plt.show()\n",
    "# 'loss' plot\n",
    "plt.plot(history.history['loss'])\n",
    "plt.plot(history.history['val_loss'])\n",
    "plt.title('model loss')\n",
    "plt.ylabel('loss')\n",
    "plt.xlabel('epoch')\n",
    "plt.legend(['train','test'], loc='upper left')\n",
    "plt.show()"
   ]
  },
  {
   "cell_type": "code",
   "execution_count": 631,
   "metadata": {},
   "outputs": [
    {
     "name": "stdout",
     "output_type": "stream",
     "text": [
      "Normal Neural Network with data - Loss: 0.5244014690507133, Accuracy: 81.13207817077637\n"
     ]
    }
   ],
   "source": [
    "model4_loss, accu4 = model4.evaluate(X1_test_scaled, y1_test_categorical, verbose=2)\n",
    "print(f\"Normal Neural Network with data - Loss: {model4_loss}, Accuracy: {accu4*100}\")\n"
   ]
  },
  {
   "cell_type": "code",
   "execution_count": 619,
   "metadata": {},
   "outputs": [
    {
     "data": {
      "text/html": [
       "<div>\n",
       "<style scoped>\n",
       "    .dataframe tbody tr th:only-of-type {\n",
       "        vertical-align: middle;\n",
       "    }\n",
       "\n",
       "    .dataframe tbody tr th {\n",
       "        vertical-align: top;\n",
       "    }\n",
       "\n",
       "    .dataframe thead th {\n",
       "        text-align: right;\n",
       "    }\n",
       "</style>\n",
       "<table border=\"1\" class=\"dataframe\">\n",
       "  <thead>\n",
       "    <tr style=\"text-align: right;\">\n",
       "      <th></th>\n",
       "      <th>Predict_N</th>\n",
       "      <th>Predict_Y</th>\n",
       "    </tr>\n",
       "  </thead>\n",
       "  <tbody>\n",
       "    <tr>\n",
       "      <th>Actual_N</th>\n",
       "      <td>32</td>\n",
       "      <td>37</td>\n",
       "    </tr>\n",
       "    <tr>\n",
       "      <th>Actual_Y</th>\n",
       "      <td>3</td>\n",
       "      <td>140</td>\n",
       "    </tr>\n",
       "  </tbody>\n",
       "</table>\n",
       "</div>"
      ],
      "text/plain": [
       "          Predict_N  Predict_Y\n",
       "Actual_N         32         37\n",
       "Actual_Y          3        140"
      ]
     },
     "execution_count": 619,
     "metadata": {},
     "output_type": "execute_result"
    }
   ],
   "source": [
    "cLR = confusion_matrix(y_test,y_pred)\n",
    "conf1 = pd.DataFrame(c,columns=['Predict_N', 'Predict_Y'], index=['Actual_N', 'Actual_Y'])\n",
    "conf1"
   ]
  },
  {
   "cell_type": "code",
   "execution_count": 620,
   "metadata": {},
   "outputs": [
    {
     "data": {
      "text/html": [
       "<div>\n",
       "<style scoped>\n",
       "    .dataframe tbody tr th:only-of-type {\n",
       "        vertical-align: middle;\n",
       "    }\n",
       "\n",
       "    .dataframe tbody tr th {\n",
       "        vertical-align: top;\n",
       "    }\n",
       "\n",
       "    .dataframe thead th {\n",
       "        text-align: right;\n",
       "    }\n",
       "</style>\n",
       "<table border=\"1\" class=\"dataframe\">\n",
       "  <thead>\n",
       "    <tr style=\"text-align: right;\">\n",
       "      <th></th>\n",
       "      <th>Predict_N</th>\n",
       "      <th>Predict_Y</th>\n",
       "    </tr>\n",
       "  </thead>\n",
       "  <tbody>\n",
       "    <tr>\n",
       "      <th>Actual_N</th>\n",
       "      <td>33</td>\n",
       "      <td>36</td>\n",
       "    </tr>\n",
       "    <tr>\n",
       "      <th>Actual_Y</th>\n",
       "      <td>4</td>\n",
       "      <td>139</td>\n",
       "    </tr>\n",
       "  </tbody>\n",
       "</table>\n",
       "</div>"
      ],
      "text/plain": [
       "          Predict_N  Predict_Y\n",
       "Actual_N         33         36\n",
       "Actual_Y          4        139"
      ]
     },
     "execution_count": 620,
     "metadata": {},
     "output_type": "execute_result"
    }
   ],
   "source": [
    "cANN = confusion_matrix(y1_test,model4.predict_classes(X1_test_scaled))\n",
    "conf4 = pd.DataFrame(cANN,columns=['Predict_N', 'Predict_Y'], index=['Actual_N', 'Actual_Y'])\n",
    "conf4"
   ]
  },
  {
   "cell_type": "code",
   "execution_count": 621,
   "metadata": {},
   "outputs": [],
   "source": [
    "tn4, fp4, fn4, tp4 = confusion_matrix(y1_test,model4.predict_classes(X1_test_scaled)).ravel()"
   ]
  },
  {
   "cell_type": "code",
   "execution_count": 622,
   "metadata": {},
   "outputs": [
    {
     "name": "stdout",
     "output_type": "stream",
     "text": [
      "Precision is: 0.7942857142857143\n",
      "Recall is: 0.9788732394366197\n"
     ]
    }
   ],
   "source": [
    "#Precision and Recall\n",
    "p4 = tp4/(tp4 + fp4)\n",
    "r4 = tp4/(tp4 + fn1)\n",
    "\n",
    "print('Precision is:', p4)\n",
    "print('Recall is:', r4)"
   ]
  },
  {
   "cell_type": "code",
   "execution_count": 623,
   "metadata": {},
   "outputs": [
    {
     "name": "stdout",
     "output_type": "stream",
     "text": [
      "The F1_score of the ANN is: 0.8742138364779874.\n"
     ]
    }
   ],
   "source": [
    "ANN_f1 = f1_score(y1_test,model4.predict_classes(X1_test_scaled))\n",
    "print(f\"The F1_score of the ANN is: {ANN_f1}.\")"
   ]
  },
  {
   "cell_type": "markdown",
   "metadata": {},
   "source": [
    "### Compare the result of the performance"
   ]
  },
  {
   "cell_type": "code",
   "execution_count": 636,
   "metadata": {},
   "outputs": [
    {
     "data": {
      "text/html": [
       "<div>\n",
       "<style scoped>\n",
       "    .dataframe tbody tr th:only-of-type {\n",
       "        vertical-align: middle;\n",
       "    }\n",
       "\n",
       "    .dataframe tbody tr th {\n",
       "        vertical-align: top;\n",
       "    }\n",
       "\n",
       "    .dataframe thead th {\n",
       "        text-align: right;\n",
       "    }\n",
       "</style>\n",
       "<table border=\"1\" class=\"dataframe\">\n",
       "  <thead>\n",
       "    <tr style=\"text-align: right;\">\n",
       "      <th></th>\n",
       "      <th>Precision</th>\n",
       "      <th>Recall</th>\n",
       "      <th>Accuracy</th>\n",
       "      <th>F1-score</th>\n",
       "    </tr>\n",
       "  </thead>\n",
       "  <tbody>\n",
       "    <tr>\n",
       "      <th>Logistic_Regression</th>\n",
       "      <td>0.790960</td>\n",
       "      <td>0.979021</td>\n",
       "      <td>81.132075</td>\n",
       "      <td>0.875000</td>\n",
       "    </tr>\n",
       "    <tr>\n",
       "      <th>Support Vector Machine</th>\n",
       "      <td>0.798851</td>\n",
       "      <td>0.972028</td>\n",
       "      <td>81.603774</td>\n",
       "      <td>0.876972</td>\n",
       "    </tr>\n",
       "    <tr>\n",
       "      <th>Random Forest Classifier</th>\n",
       "      <td>0.809816</td>\n",
       "      <td>0.923077</td>\n",
       "      <td>80.188679</td>\n",
       "      <td>0.862745</td>\n",
       "    </tr>\n",
       "    <tr>\n",
       "      <th>Artificial Neural Network</th>\n",
       "      <td>0.794286</td>\n",
       "      <td>0.978873</td>\n",
       "      <td>81.132078</td>\n",
       "      <td>0.874214</td>\n",
       "    </tr>\n",
       "  </tbody>\n",
       "</table>\n",
       "</div>"
      ],
      "text/plain": [
       "                           Precision    Recall   Accuracy  F1-score\n",
       "Logistic_Regression         0.790960  0.979021  81.132075  0.875000\n",
       "Support Vector Machine      0.798851  0.972028  81.603774  0.876972\n",
       "Random Forest Classifier    0.809816  0.923077  80.188679  0.862745\n",
       "Artificial Neural Network   0.794286  0.978873  81.132078  0.874214"
      ]
     },
     "execution_count": 636,
     "metadata": {},
     "output_type": "execute_result"
    }
   ],
   "source": [
    "result = pd.DataFrame(pd.DataFrame(np.array([[p1,r1, accu1, LR_f1],[p2, r2, accu2, SVM_f1],[p3, r3, accu3, RFC_f1], [p4, r4, accu4*100, ANN_f1]]),\n",
    "                                   columns = [\"Precision\",\"Recall\", \"Accuracy\",\"F1-score\"], index = [\"Logistic_Regression\", \"Support Vector Machine\", \"Random Forest Classifier\", \"Artificial Neural Network\"]))\n",
    "\n",
    "result"
   ]
  },
  {
   "cell_type": "markdown",
   "metadata": {},
   "source": [
    "As we can see from the above Dataframe of the performance metrics of 4 models."
   ]
  },
  {
   "cell_type": "markdown",
   "metadata": {},
   "source": [
    "# Conclusion\n",
    "We observe that performance of the Support Vector Machine model with kernel as polynomial is better than the other models, but it is little bit slow as compare with Logistic Model.\n",
    "We can see from the above score ANN model and Logistic Model are pretty close too."
   ]
  },
  {
   "cell_type": "markdown",
   "metadata": {},
   "source": [
    "The accuracy of ANN may increase if we have more data, this will help in better learning of the model, then ANN may give better result.\n",
    "Although, <b>Logistic Regression</b> seems better for this dataset even if SVM accuracy is <b>slightly higher</b> because it is <b>slow</b>."
   ]
  },
  {
   "cell_type": "markdown",
   "metadata": {},
   "source": [
    "#### Author: Sashwat Sharma \n",
    "#### Email: sashwatiiitdwd@gmail.com\n",
    "#### Mobile No. : 7019455702"
   ]
  }
 ],
 "metadata": {
  "kernelspec": {
   "display_name": "Python 3",
   "language": "python",
   "name": "python3"
  },
  "language_info": {
   "codemirror_mode": {
    "name": "ipython",
    "version": 3
   },
   "file_extension": ".py",
   "mimetype": "text/x-python",
   "name": "python",
   "nbconvert_exporter": "python",
   "pygments_lexer": "ipython3",
   "version": "3.6.9"
  }
 },
 "nbformat": 4,
 "nbformat_minor": 2
}
